{
 "cells": [
  {
   "cell_type": "markdown",
   "metadata": {
    "colab_type": "text",
    "id": "pIcPplhSwgoq"
   },
   "source": [
    "# Bank Institution Term Deposit Predictive Model"
   ]
  },
  {
   "cell_type": "markdown",
   "metadata": {
    "colab_type": "text",
    "id": "XRUlrz0Nwgor"
   },
   "source": [
    "The goal is to find a model that can predict which future clients who would subscribe to their term deposit. \n",
    "\n",
    "Having such an effective predictive model can help increase the campaign efficiency as they would be able to identify customers who would subscribe to their term deposit and thereby direct their marketing efforts to them. \n",
    "\n",
    "This would help them better manage their resources (e.g human effort, phone calls, time)."
   ]
  },
  {
   "cell_type": "markdown",
   "metadata": {
    "colab_type": "text",
    "id": "OeQSeo4ywgos"
   },
   "source": [
    "## Import the data"
   ]
  },
  {
   "cell_type": "code",
   "execution_count": 1,
   "metadata": {
    "colab": {
     "base_uri": "https://localhost:8080/",
     "height": 104
    },
    "colab_type": "code",
    "id": "7BFf7EH7wgos",
    "outputId": "77d7b6d9-012e-40e7-91ed-cfa9a3ad3c59"
   },
   "outputs": [],
   "source": [
    "import sys\n",
    "import pydotplus\n",
    "\n",
    "import numpy as np\n",
    "import pandas as pd\n",
    "import xgboost as xgb\n",
    "import seaborn as sns\n",
    "import matplotlib.pyplot as plt\n",
    "\n",
    "from numpy import std\n",
    "from numpy import mean\n",
    "from sklearn import svm\n",
    "from scipy import stats\n",
    "from io import StringIO\n",
    "from keras import regularizers\n",
    "from xgboost import XGBClassifier\n",
    "from IPython.display import Image  \n",
    "from sklearn.manifold import TSNE\n",
    "from keras.layers import Input, Dense\n",
    "from sklearn.decomposition import PCA\n",
    "from sklearn.tree import export_graphviz\n",
    "from sklearn.feature_selection import RFE\n",
    "from sklearn.model_selection import KFold\n",
    "from sklearn.metrics import roc_curve, auc\n",
    "from keras.models import Sequential, Model\n",
    "from six import StringIO  \n",
    "from sklearn.preprocessing import LabelEncoder\n",
    "from sklearn.tree import DecisionTreeClassifier\n",
    "from sklearn.preprocessing import StandardScaler\n",
    "from sklearn.neural_network import MLPClassifier\n",
    "from mlxtend.plotting import plot_decision_regions\n",
    "from sklearn.ensemble import RandomForestClassifier\n",
    "from sklearn.model_selection import cross_val_score\n",
    "from sklearn.model_selection import StratifiedKFold\n",
    "from sklearn.linear_model import LogisticRegression\n",
    "from sklearn.model_selection import train_test_split\n",
    "from keras.layers import Activation, Dense, Dropout, Input\n",
    "from sklearn import preprocessing, metrics, model_selection"
   ]
  },
  {
   "cell_type": "code",
   "execution_count": 2,
   "metadata": {
    "colab": {},
    "colab_type": "code",
    "id": "zcQXjN3PAsAg"
   },
   "outputs": [],
   "source": [
    "#set seaborn style\n",
    "sns.set(style=\"darkgrid\")\n",
    "\n",
    "colour_palette = \"tab10\"\n",
    "sns.set_palette(colour_palette)"
   ]
  },
  {
   "cell_type": "code",
   "execution_count": 3,
   "metadata": {
    "colab": {},
    "colab_type": "code",
    "id": "OOKUaiPTwgow"
   },
   "outputs": [],
   "source": [
    "#Import the data into a dataframe called data through github link. \n",
    "#Set low memory to false because the dataset is large.\n",
    " \n",
    "bank_additional_full = 'https://raw.githubusercontent.com/mwi-kali/Bank-Institution-Term-Deposit-Predictive-Model/master/data/bank-additional-full.csv'\n",
    "\n",
    "data_bank_additional_full = pd.read_csv(bank_additional_full, sep=';', low_memory = False)"
   ]
  },
  {
   "cell_type": "code",
   "execution_count": 4,
   "metadata": {
    "colab": {
     "base_uri": "https://localhost:8080/",
     "height": 101
    },
    "colab_type": "code",
    "id": "1LNivYuKcCYu",
    "outputId": "2f04bb8e-3762-419a-950e-d0d9b6833ddb"
   },
   "outputs": [
    {
     "data": {
      "text/plain": [
       "Index(['age', 'job', 'marital', 'education', 'default', 'housing', 'loan',\n",
       "       'contact', 'month', 'day_of_week', 'duration', 'campaign', 'pdays',\n",
       "       'previous', 'poutcome', 'emp.var.rate', 'cons.price.idx',\n",
       "       'cons.conf.idx', 'euribor3m', 'nr.employed', 'y'],\n",
       "      dtype='object')"
      ]
     },
     "execution_count": 4,
     "metadata": {},
     "output_type": "execute_result"
    }
   ],
   "source": [
    "data_bank_additional_full.columns"
   ]
  },
  {
   "cell_type": "markdown",
   "metadata": {
    "colab_type": "text",
    "id": "8OqcioIOwgoz"
   },
   "source": [
    "## Data Exploration\n",
    "\n",
    "This section attempts to understand the data. "
   ]
  },
  {
   "cell_type": "code",
   "execution_count": 5,
   "metadata": {
    "colab": {
     "base_uri": "https://localhost:8080/",
     "height": 426
    },
    "colab_type": "code",
    "id": "7dLIqfQWwgo0",
    "outputId": "6a75fb63-1115-4b5c-eefb-c1aa7762fdd9"
   },
   "outputs": [
    {
     "name": "stdout",
     "output_type": "stream",
     "text": [
      "In total:  (41188, 21)\n",
      "Missing data in total:  0\n"
     ]
    },
    {
     "data": {
      "text/html": [
       "<div>\n",
       "<style scoped>\n",
       "    .dataframe tbody tr th:only-of-type {\n",
       "        vertical-align: middle;\n",
       "    }\n",
       "\n",
       "    .dataframe tbody tr th {\n",
       "        vertical-align: top;\n",
       "    }\n",
       "\n",
       "    .dataframe thead th {\n",
       "        text-align: right;\n",
       "    }\n",
       "</style>\n",
       "<table border=\"1\" class=\"dataframe\">\n",
       "  <thead>\n",
       "    <tr style=\"text-align: right;\">\n",
       "      <th></th>\n",
       "      <th>age</th>\n",
       "      <th>job</th>\n",
       "      <th>marital</th>\n",
       "      <th>education</th>\n",
       "      <th>default</th>\n",
       "      <th>housing</th>\n",
       "      <th>loan</th>\n",
       "      <th>contact</th>\n",
       "      <th>month</th>\n",
       "      <th>day_of_week</th>\n",
       "      <th>...</th>\n",
       "      <th>campaign</th>\n",
       "      <th>pdays</th>\n",
       "      <th>previous</th>\n",
       "      <th>poutcome</th>\n",
       "      <th>emp.var.rate</th>\n",
       "      <th>cons.price.idx</th>\n",
       "      <th>cons.conf.idx</th>\n",
       "      <th>euribor3m</th>\n",
       "      <th>nr.employed</th>\n",
       "      <th>y</th>\n",
       "    </tr>\n",
       "  </thead>\n",
       "  <tbody>\n",
       "    <tr>\n",
       "      <th>count</th>\n",
       "      <td>41188.00000</td>\n",
       "      <td>41188</td>\n",
       "      <td>41188</td>\n",
       "      <td>41188</td>\n",
       "      <td>41188</td>\n",
       "      <td>41188</td>\n",
       "      <td>41188</td>\n",
       "      <td>41188</td>\n",
       "      <td>41188</td>\n",
       "      <td>41188</td>\n",
       "      <td>...</td>\n",
       "      <td>41188.000000</td>\n",
       "      <td>41188.000000</td>\n",
       "      <td>41188.000000</td>\n",
       "      <td>41188</td>\n",
       "      <td>41188.000000</td>\n",
       "      <td>41188.000000</td>\n",
       "      <td>41188.000000</td>\n",
       "      <td>41188.000000</td>\n",
       "      <td>41188.000000</td>\n",
       "      <td>41188</td>\n",
       "    </tr>\n",
       "    <tr>\n",
       "      <th>unique</th>\n",
       "      <td>NaN</td>\n",
       "      <td>12</td>\n",
       "      <td>4</td>\n",
       "      <td>8</td>\n",
       "      <td>3</td>\n",
       "      <td>3</td>\n",
       "      <td>3</td>\n",
       "      <td>2</td>\n",
       "      <td>10</td>\n",
       "      <td>5</td>\n",
       "      <td>...</td>\n",
       "      <td>NaN</td>\n",
       "      <td>NaN</td>\n",
       "      <td>NaN</td>\n",
       "      <td>3</td>\n",
       "      <td>NaN</td>\n",
       "      <td>NaN</td>\n",
       "      <td>NaN</td>\n",
       "      <td>NaN</td>\n",
       "      <td>NaN</td>\n",
       "      <td>2</td>\n",
       "    </tr>\n",
       "    <tr>\n",
       "      <th>top</th>\n",
       "      <td>NaN</td>\n",
       "      <td>admin.</td>\n",
       "      <td>married</td>\n",
       "      <td>university.degree</td>\n",
       "      <td>no</td>\n",
       "      <td>yes</td>\n",
       "      <td>no</td>\n",
       "      <td>cellular</td>\n",
       "      <td>may</td>\n",
       "      <td>thu</td>\n",
       "      <td>...</td>\n",
       "      <td>NaN</td>\n",
       "      <td>NaN</td>\n",
       "      <td>NaN</td>\n",
       "      <td>nonexistent</td>\n",
       "      <td>NaN</td>\n",
       "      <td>NaN</td>\n",
       "      <td>NaN</td>\n",
       "      <td>NaN</td>\n",
       "      <td>NaN</td>\n",
       "      <td>no</td>\n",
       "    </tr>\n",
       "    <tr>\n",
       "      <th>freq</th>\n",
       "      <td>NaN</td>\n",
       "      <td>10422</td>\n",
       "      <td>24928</td>\n",
       "      <td>12168</td>\n",
       "      <td>32588</td>\n",
       "      <td>21576</td>\n",
       "      <td>33950</td>\n",
       "      <td>26144</td>\n",
       "      <td>13769</td>\n",
       "      <td>8623</td>\n",
       "      <td>...</td>\n",
       "      <td>NaN</td>\n",
       "      <td>NaN</td>\n",
       "      <td>NaN</td>\n",
       "      <td>35563</td>\n",
       "      <td>NaN</td>\n",
       "      <td>NaN</td>\n",
       "      <td>NaN</td>\n",
       "      <td>NaN</td>\n",
       "      <td>NaN</td>\n",
       "      <td>36548</td>\n",
       "    </tr>\n",
       "    <tr>\n",
       "      <th>mean</th>\n",
       "      <td>40.02406</td>\n",
       "      <td>NaN</td>\n",
       "      <td>NaN</td>\n",
       "      <td>NaN</td>\n",
       "      <td>NaN</td>\n",
       "      <td>NaN</td>\n",
       "      <td>NaN</td>\n",
       "      <td>NaN</td>\n",
       "      <td>NaN</td>\n",
       "      <td>NaN</td>\n",
       "      <td>...</td>\n",
       "      <td>2.567593</td>\n",
       "      <td>962.475454</td>\n",
       "      <td>0.172963</td>\n",
       "      <td>NaN</td>\n",
       "      <td>0.081886</td>\n",
       "      <td>93.575664</td>\n",
       "      <td>-40.502600</td>\n",
       "      <td>3.621291</td>\n",
       "      <td>5167.035911</td>\n",
       "      <td>NaN</td>\n",
       "    </tr>\n",
       "    <tr>\n",
       "      <th>std</th>\n",
       "      <td>10.42125</td>\n",
       "      <td>NaN</td>\n",
       "      <td>NaN</td>\n",
       "      <td>NaN</td>\n",
       "      <td>NaN</td>\n",
       "      <td>NaN</td>\n",
       "      <td>NaN</td>\n",
       "      <td>NaN</td>\n",
       "      <td>NaN</td>\n",
       "      <td>NaN</td>\n",
       "      <td>...</td>\n",
       "      <td>2.770014</td>\n",
       "      <td>186.910907</td>\n",
       "      <td>0.494901</td>\n",
       "      <td>NaN</td>\n",
       "      <td>1.570960</td>\n",
       "      <td>0.578840</td>\n",
       "      <td>4.628198</td>\n",
       "      <td>1.734447</td>\n",
       "      <td>72.251528</td>\n",
       "      <td>NaN</td>\n",
       "    </tr>\n",
       "    <tr>\n",
       "      <th>min</th>\n",
       "      <td>17.00000</td>\n",
       "      <td>NaN</td>\n",
       "      <td>NaN</td>\n",
       "      <td>NaN</td>\n",
       "      <td>NaN</td>\n",
       "      <td>NaN</td>\n",
       "      <td>NaN</td>\n",
       "      <td>NaN</td>\n",
       "      <td>NaN</td>\n",
       "      <td>NaN</td>\n",
       "      <td>...</td>\n",
       "      <td>1.000000</td>\n",
       "      <td>0.000000</td>\n",
       "      <td>0.000000</td>\n",
       "      <td>NaN</td>\n",
       "      <td>-3.400000</td>\n",
       "      <td>92.201000</td>\n",
       "      <td>-50.800000</td>\n",
       "      <td>0.634000</td>\n",
       "      <td>4963.600000</td>\n",
       "      <td>NaN</td>\n",
       "    </tr>\n",
       "    <tr>\n",
       "      <th>25%</th>\n",
       "      <td>32.00000</td>\n",
       "      <td>NaN</td>\n",
       "      <td>NaN</td>\n",
       "      <td>NaN</td>\n",
       "      <td>NaN</td>\n",
       "      <td>NaN</td>\n",
       "      <td>NaN</td>\n",
       "      <td>NaN</td>\n",
       "      <td>NaN</td>\n",
       "      <td>NaN</td>\n",
       "      <td>...</td>\n",
       "      <td>1.000000</td>\n",
       "      <td>999.000000</td>\n",
       "      <td>0.000000</td>\n",
       "      <td>NaN</td>\n",
       "      <td>-1.800000</td>\n",
       "      <td>93.075000</td>\n",
       "      <td>-42.700000</td>\n",
       "      <td>1.344000</td>\n",
       "      <td>5099.100000</td>\n",
       "      <td>NaN</td>\n",
       "    </tr>\n",
       "    <tr>\n",
       "      <th>50%</th>\n",
       "      <td>38.00000</td>\n",
       "      <td>NaN</td>\n",
       "      <td>NaN</td>\n",
       "      <td>NaN</td>\n",
       "      <td>NaN</td>\n",
       "      <td>NaN</td>\n",
       "      <td>NaN</td>\n",
       "      <td>NaN</td>\n",
       "      <td>NaN</td>\n",
       "      <td>NaN</td>\n",
       "      <td>...</td>\n",
       "      <td>2.000000</td>\n",
       "      <td>999.000000</td>\n",
       "      <td>0.000000</td>\n",
       "      <td>NaN</td>\n",
       "      <td>1.100000</td>\n",
       "      <td>93.749000</td>\n",
       "      <td>-41.800000</td>\n",
       "      <td>4.857000</td>\n",
       "      <td>5191.000000</td>\n",
       "      <td>NaN</td>\n",
       "    </tr>\n",
       "    <tr>\n",
       "      <th>75%</th>\n",
       "      <td>47.00000</td>\n",
       "      <td>NaN</td>\n",
       "      <td>NaN</td>\n",
       "      <td>NaN</td>\n",
       "      <td>NaN</td>\n",
       "      <td>NaN</td>\n",
       "      <td>NaN</td>\n",
       "      <td>NaN</td>\n",
       "      <td>NaN</td>\n",
       "      <td>NaN</td>\n",
       "      <td>...</td>\n",
       "      <td>3.000000</td>\n",
       "      <td>999.000000</td>\n",
       "      <td>0.000000</td>\n",
       "      <td>NaN</td>\n",
       "      <td>1.400000</td>\n",
       "      <td>93.994000</td>\n",
       "      <td>-36.400000</td>\n",
       "      <td>4.961000</td>\n",
       "      <td>5228.100000</td>\n",
       "      <td>NaN</td>\n",
       "    </tr>\n",
       "    <tr>\n",
       "      <th>max</th>\n",
       "      <td>98.00000</td>\n",
       "      <td>NaN</td>\n",
       "      <td>NaN</td>\n",
       "      <td>NaN</td>\n",
       "      <td>NaN</td>\n",
       "      <td>NaN</td>\n",
       "      <td>NaN</td>\n",
       "      <td>NaN</td>\n",
       "      <td>NaN</td>\n",
       "      <td>NaN</td>\n",
       "      <td>...</td>\n",
       "      <td>56.000000</td>\n",
       "      <td>999.000000</td>\n",
       "      <td>7.000000</td>\n",
       "      <td>NaN</td>\n",
       "      <td>1.400000</td>\n",
       "      <td>94.767000</td>\n",
       "      <td>-26.900000</td>\n",
       "      <td>5.045000</td>\n",
       "      <td>5228.100000</td>\n",
       "      <td>NaN</td>\n",
       "    </tr>\n",
       "  </tbody>\n",
       "</table>\n",
       "<p>11 rows × 21 columns</p>\n",
       "</div>"
      ],
      "text/plain": [
       "                age     job  marital          education default housing  \\\n",
       "count   41188.00000   41188    41188              41188   41188   41188   \n",
       "unique          NaN      12        4                  8       3       3   \n",
       "top             NaN  admin.  married  university.degree      no     yes   \n",
       "freq            NaN   10422    24928              12168   32588   21576   \n",
       "mean       40.02406     NaN      NaN                NaN     NaN     NaN   \n",
       "std        10.42125     NaN      NaN                NaN     NaN     NaN   \n",
       "min        17.00000     NaN      NaN                NaN     NaN     NaN   \n",
       "25%        32.00000     NaN      NaN                NaN     NaN     NaN   \n",
       "50%        38.00000     NaN      NaN                NaN     NaN     NaN   \n",
       "75%        47.00000     NaN      NaN                NaN     NaN     NaN   \n",
       "max        98.00000     NaN      NaN                NaN     NaN     NaN   \n",
       "\n",
       "         loan   contact  month day_of_week  ...      campaign         pdays  \\\n",
       "count   41188     41188  41188       41188  ...  41188.000000  41188.000000   \n",
       "unique      3         2     10           5  ...           NaN           NaN   \n",
       "top        no  cellular    may         thu  ...           NaN           NaN   \n",
       "freq    33950     26144  13769        8623  ...           NaN           NaN   \n",
       "mean      NaN       NaN    NaN         NaN  ...      2.567593    962.475454   \n",
       "std       NaN       NaN    NaN         NaN  ...      2.770014    186.910907   \n",
       "min       NaN       NaN    NaN         NaN  ...      1.000000      0.000000   \n",
       "25%       NaN       NaN    NaN         NaN  ...      1.000000    999.000000   \n",
       "50%       NaN       NaN    NaN         NaN  ...      2.000000    999.000000   \n",
       "75%       NaN       NaN    NaN         NaN  ...      3.000000    999.000000   \n",
       "max       NaN       NaN    NaN         NaN  ...     56.000000    999.000000   \n",
       "\n",
       "            previous     poutcome  emp.var.rate  cons.price.idx  \\\n",
       "count   41188.000000        41188  41188.000000    41188.000000   \n",
       "unique           NaN            3           NaN             NaN   \n",
       "top              NaN  nonexistent           NaN             NaN   \n",
       "freq             NaN        35563           NaN             NaN   \n",
       "mean        0.172963          NaN      0.081886       93.575664   \n",
       "std         0.494901          NaN      1.570960        0.578840   \n",
       "min         0.000000          NaN     -3.400000       92.201000   \n",
       "25%         0.000000          NaN     -1.800000       93.075000   \n",
       "50%         0.000000          NaN      1.100000       93.749000   \n",
       "75%         0.000000          NaN      1.400000       93.994000   \n",
       "max         7.000000          NaN      1.400000       94.767000   \n",
       "\n",
       "        cons.conf.idx     euribor3m   nr.employed      y  \n",
       "count    41188.000000  41188.000000  41188.000000  41188  \n",
       "unique            NaN           NaN           NaN      2  \n",
       "top               NaN           NaN           NaN     no  \n",
       "freq              NaN           NaN           NaN  36548  \n",
       "mean       -40.502600      3.621291   5167.035911    NaN  \n",
       "std          4.628198      1.734447     72.251528    NaN  \n",
       "min        -50.800000      0.634000   4963.600000    NaN  \n",
       "25%        -42.700000      1.344000   5099.100000    NaN  \n",
       "50%        -41.800000      4.857000   5191.000000    NaN  \n",
       "75%        -36.400000      4.961000   5228.100000    NaN  \n",
       "max        -26.900000      5.045000   5228.100000    NaN  \n",
       "\n",
       "[11 rows x 21 columns]"
      ]
     },
     "execution_count": 5,
     "metadata": {},
     "output_type": "execute_result"
    }
   ],
   "source": [
    "print(\"In total: \", data_bank_additional_full.shape)\n",
    "print(\"Missing data in total: \", data_bank_additional_full.isnull().sum().sum())\n",
    "data_bank_additional_full.describe(include='all')"
   ]
  },
  {
   "cell_type": "markdown",
   "metadata": {
    "colab_type": "text",
    "id": "GQFraXoNwgpB"
   },
   "source": [
    "# Classification Model for Predicting Term Deposit"
   ]
  },
  {
   "cell_type": "markdown",
   "metadata": {
    "colab_type": "text",
    "id": "6Okz6piHwgpB"
   },
   "source": [
    "## Preprocessing"
   ]
  },
  {
   "cell_type": "markdown",
   "metadata": {
    "colab_type": "text",
    "id": "qxluRm56wgpC"
   },
   "source": [
    "### Encoding categorical variables \n",
    "Using label encoder to transform them into numerical columns. \n",
    "\n",
    "It encodes target labels with value between 0 and n_classes-1. This approach is very simple and it involves converting each value in a column to a number."
   ]
  },
  {
   "cell_type": "code",
   "execution_count": 6,
   "metadata": {
    "colab": {},
    "colab_type": "code",
    "id": "7lyX41_YwgpC"
   },
   "outputs": [],
   "source": [
    "# Replacing categorical values with numerical values\n",
    "label_encoder = LabelEncoder()\n",
    "all_columns = list(data_bank_additional_full.columns)\n",
    "for x in all_columns:\n",
    "    if type(data_bank_additional_full[x][0]) == str:\n",
    "        try:\n",
    "            data_bank_additional_full[x] = label_encoder.fit_transform(data_bank_additional_full[x])\n",
    "        except:\n",
    "            continue"
   ]
  },
  {
   "cell_type": "markdown",
   "metadata": {
    "colab_type": "text",
    "id": "Ul6kuxWFwgpF"
   },
   "source": [
    "### Handling outliers\n",
    "Using by replacing it with central measures of tendancies.\n"
   ]
  },
  {
   "cell_type": "code",
   "execution_count": 7,
   "metadata": {
    "colab": {},
    "colab_type": "code",
    "id": "p1ajS9Dhb2-d"
   },
   "outputs": [],
   "source": [
    "all_columns = list(data_bank_additional_full.iloc[:,:20].columns)\n",
    "for x in all_columns:\n",
    "    try:\n",
    "        data_bank_additional_full[x] = np.where(data_bank_additional_full[x] > data_bank_additional_full[x].quantile(0.975), data_bank_additional_full[x].quantile(0.50), data_bank_additional_full[x])\n",
    "        data_bank_additional_full[x] = np.where(data_bank_additional_full[x] < data_bank_additional_full[x].quantile(0.025), data_bank_additional_full[x].quantile(0.50), data_bank_additional_full[x])\n",
    "    except TypeError:\n",
    "        continue"
   ]
  },
  {
   "cell_type": "markdown",
   "metadata": {
    "colab_type": "text",
    "id": "Bh7lugpGwgpI"
   },
   "source": [
    "### Scaler to rescale all numerical columns\n",
    "Using StandardScaler().\n",
    "\n",
    "It standardizes features by removing the mean and scaling to unit variance."
   ]
  },
  {
   "cell_type": "code",
   "execution_count": 8,
   "metadata": {
    "colab": {},
    "colab_type": "code",
    "id": "KwnrS_7SwgpI"
   },
   "outputs": [],
   "source": [
    "scaler = StandardScaler()\n",
    "scaled_df = scaler.fit_transform(data_bank_additional_full.iloc[:,:20])\n",
    "data_bank_additional_fullish = pd.DataFrame(scaled_df,columns = all_columns)\n",
    "data_bank_additional_fullish['y'] = data_bank_additional_full['y']\n",
    "data_bank_additional_full = data_bank_additional_fullish"
   ]
  },
  {
   "cell_type": "markdown",
   "metadata": {
    "colab_type": "text",
    "id": "lP2CybYZwgpK"
   },
   "source": [
    "### Feature Engineering\n",
    "Transforming and Aggregating columns to create better features."
   ]
  },
  {
   "cell_type": "code",
   "execution_count": 9,
   "metadata": {
    "colab": {},
    "colab_type": "code",
    "id": "fSK6dhWGwgpL"
   },
   "outputs": [],
   "source": [
    "X = data_bank_additional_full[['age', 'job', 'marital', 'education', 'default', 'housing', 'loan','contact', 'month', 'day_of_week', 'duration', 'campaign', 'pdays','previous', 'poutcome', 'emp.var.rate', 'cons.price.idx','cons.conf.idx', 'euribor3m', 'nr.employed']]\n",
    "y = data_bank_additional_full['y']"
   ]
  },
  {
   "cell_type": "markdown",
   "metadata": {
    "colab_type": "text",
    "id": "CzB6oabVwgpN"
   },
   "source": [
    "### Dimensionality Reductions Techniques."
   ]
  },
  {
   "cell_type": "markdown",
   "metadata": {
    "colab_type": "text",
    "id": "XNLsF8d2wgpO"
   },
   "source": [
    "#### TSNE (t-distributed Stochastic Neighbor Embedding)\n",
    "\n",
    "It converts similarities between data points to joint probabilities and tries to minimize the Kullback-Leibler divergence between the joint probabilities of the low-dimensional embedding and the high-dimensional data."
   ]
  },
  {
   "cell_type": "code",
   "execution_count": 10,
   "metadata": {
    "colab": {},
    "colab_type": "code",
    "id": "PrEnccKQwgpP"
   },
   "outputs": [],
   "source": [
    "tsne = TSNE(n_components=3)\n",
    "X_tsne = tsne.fit_transform(X)\n",
    "X_tsne = pd.DataFrame(X_tsne)"
   ]
  },
  {
   "cell_type": "markdown",
   "metadata": {
    "colab_type": "text",
    "id": "9rSFnH98wgpR"
   },
   "source": [
    "#### Autoencoders\n",
    "Autoencoder is an unsupervised artificial neural network. Its procedure starts compressing the original data into a shortcode ignoring noise. Then, the algorithm uncompresses that code to generate an image as close as possible to the original input."
   ]
  },
  {
   "cell_type": "code",
   "execution_count": 11,
   "metadata": {
    "colab": {
     "base_uri": "https://localhost:8080/",
     "height": 1000
    },
    "colab_type": "code",
    "id": "JD2ozIXCwUtX",
    "outputId": "cf62c306-a318-4f05-a0c6-710e48293471"
   },
   "outputs": [
    {
     "name": "stdout",
     "output_type": "stream",
     "text": [
      "Epoch 1/500\n",
      "161/161 [==============================] - 0s 2ms/step - loss: 0.2686\n",
      "Epoch 2/500\n",
      "161/161 [==============================] - 0s 2ms/step - loss: -1.1473\n",
      "Epoch 3/500\n",
      "161/161 [==============================] - 0s 1ms/step - loss: -3.8733\n",
      "Epoch 4/500\n",
      "161/161 [==============================] - 0s 2ms/step - loss: -8.3611\n",
      "Epoch 5/500\n",
      "161/161 [==============================] - 0s 1ms/step - loss: -14.7579\n",
      "Epoch 6/500\n",
      "161/161 [==============================] - 0s 1ms/step - loss: -23.0304\n",
      "Epoch 7/500\n",
      "161/161 [==============================] - 0s 1ms/step - loss: -33.1218\n",
      "Epoch 8/500\n",
      "161/161 [==============================] - 0s 2ms/step - loss: -44.9012\n",
      "Epoch 9/500\n",
      "161/161 [==============================] - 0s 1ms/step - loss: -58.2704A: 0s - loss: -54.2\n",
      "Epoch 10/500\n",
      "161/161 [==============================] - 0s 1ms/step - loss: -73.1770\n",
      "Epoch 11/500\n",
      "161/161 [==============================] - 0s 1ms/step - loss: -89.5799\n",
      "Epoch 12/500\n",
      "161/161 [==============================] - 0s 2ms/step - loss: -107.4309\n",
      "Epoch 13/500\n",
      "161/161 [==============================] - 0s 1ms/step - loss: -126.6873\n",
      "Epoch 14/500\n",
      "161/161 [==============================] - 0s 2ms/step - loss: -147.3078\n",
      "Epoch 15/500\n",
      "161/161 [==============================] - 0s 2ms/step - loss: -169.2204\n",
      "Epoch 16/500\n",
      "161/161 [==============================] - 0s 2ms/step - loss: -192.4144\n",
      "Epoch 17/500\n",
      "161/161 [==============================] - 0s 1ms/step - loss: -216.8238\n",
      "Epoch 18/500\n",
      "161/161 [==============================] - 0s 1ms/step - loss: -242.4123\n",
      "Epoch 19/500\n",
      "161/161 [==============================] - 0s 1ms/step - loss: -269.1440\n",
      "Epoch 20/500\n",
      "161/161 [==============================] - 0s 2ms/step - loss: -296.9785\n",
      "Epoch 21/500\n",
      "161/161 [==============================] - 0s 2ms/step - loss: -325.8839\n",
      "Epoch 22/500\n",
      "161/161 [==============================] - 0s 2ms/step - loss: -355.8639\n",
      "Epoch 23/500\n",
      "161/161 [==============================] - 0s 2ms/step - loss: -386.9071\n",
      "Epoch 24/500\n",
      "161/161 [==============================] - 0s 2ms/step - loss: -418.9566\n",
      "Epoch 25/500\n",
      "161/161 [==============================] - 0s 2ms/step - loss: -452.0222\n",
      "Epoch 26/500\n",
      "161/161 [==============================] - 0s 2ms/step - loss: -486.0996\n",
      "Epoch 27/500\n",
      "161/161 [==============================] - 0s 2ms/step - loss: -521.1652\n",
      "Epoch 28/500\n",
      "161/161 [==============================] - 0s 2ms/step - loss: -557.2444\n",
      "Epoch 29/500\n",
      "161/161 [==============================] - 0s 2ms/step - loss: -594.3342\n",
      "Epoch 30/500\n",
      "161/161 [==============================] - 0s 2ms/step - loss: -632.4068\n",
      "Epoch 31/500\n",
      "161/161 [==============================] - 0s 2ms/step - loss: -671.4927\n",
      "Epoch 32/500\n",
      "161/161 [==============================] - 0s 2ms/step - loss: -711.5984\n",
      "Epoch 33/500\n",
      "161/161 [==============================] - 0s 2ms/step - loss: -752.6793\n",
      "Epoch 34/500\n",
      "161/161 [==============================] - 0s 2ms/step - loss: -794.7767\n",
      "Epoch 35/500\n",
      "161/161 [==============================] - 0s 2ms/step - loss: -837.8875\n",
      "Epoch 36/500\n",
      "161/161 [==============================] - 0s 2ms/step - loss: -882.0031\n",
      "Epoch 37/500\n",
      "161/161 [==============================] - 0s 2ms/step - loss: -927.0970\n",
      "Epoch 38/500\n",
      "161/161 [==============================] - 0s 2ms/step - loss: -973.1894\n",
      "Epoch 39/500\n",
      "161/161 [==============================] - 0s 3ms/step - loss: -1020.2957\n",
      "Epoch 40/500\n",
      "161/161 [==============================] - 0s 2ms/step - loss: -1068.3978\n",
      "Epoch 41/500\n",
      "161/161 [==============================] - 0s 3ms/step - loss: -1117.5546\n",
      "Epoch 42/500\n",
      "161/161 [==============================] - 0s 2ms/step - loss: -1167.6836\n",
      "Epoch 43/500\n",
      "161/161 [==============================] - 0s 2ms/step - loss: -1218.8384\n",
      "Epoch 44/500\n",
      "161/161 [==============================] - 0s 2ms/step - loss: -1270.9978\n",
      "Epoch 45/500\n",
      "161/161 [==============================] - 0s 2ms/step - loss: -1324.1594\n",
      "Epoch 46/500\n",
      "161/161 [==============================] - 0s 2ms/step - loss: -1378.3561\n",
      "Epoch 47/500\n",
      "161/161 [==============================] - 0s 2ms/step - loss: -1433.5541\n",
      "Epoch 48/500\n",
      "161/161 [==============================] - 0s 2ms/step - loss: -1489.7810\n",
      "Epoch 49/500\n",
      "161/161 [==============================] - 0s 1ms/step - loss: -1547.0476\n",
      "Epoch 50/500\n",
      "161/161 [==============================] - 0s 1ms/step - loss: -1605.2999\n",
      "Epoch 51/500\n",
      "161/161 [==============================] - 0s 2ms/step - loss: -1664.5537\n",
      "Epoch 52/500\n",
      "161/161 [==============================] - 0s 2ms/step - loss: -1724.7922\n",
      "Epoch 53/500\n",
      "161/161 [==============================] - 0s 1ms/step - loss: -1786.0781\n",
      "Epoch 54/500\n",
      "161/161 [==============================] - 0s 2ms/step - loss: -1848.3003\n",
      "Epoch 55/500\n",
      "161/161 [==============================] - 0s 2ms/step - loss: -1911.5341\n",
      "Epoch 56/500\n",
      "161/161 [==============================] - 0s 2ms/step - loss: -1975.7155\n",
      "Epoch 57/500\n",
      "161/161 [==============================] - 0s 2ms/step - loss: -2040.8921\n",
      "Epoch 58/500\n",
      "161/161 [==============================] - 0s 2ms/step - loss: -2107.0085\n",
      "Epoch 59/500\n",
      "161/161 [==============================] - 0s 2ms/step - loss: -2174.1028\n",
      "Epoch 60/500\n",
      "161/161 [==============================] - 0s 2ms/step - loss: -2242.1938\n",
      "Epoch 61/500\n",
      "161/161 [==============================] - 0s 2ms/step - loss: -2311.2495\n",
      "Epoch 62/500\n",
      "161/161 [==============================] - 0s 2ms/step - loss: -2381.2812\n",
      "Epoch 63/500\n",
      "161/161 [==============================] - 0s 1ms/step - loss: -2452.2722\n",
      "Epoch 64/500\n",
      "161/161 [==============================] - 0s 2ms/step - loss: -2524.2029\n",
      "Epoch 65/500\n",
      "161/161 [==============================] - 0s 2ms/step - loss: -2597.1355\n",
      "Epoch 66/500\n",
      "161/161 [==============================] - 0s 2ms/step - loss: -2670.9973\n",
      "Epoch 67/500\n",
      "161/161 [==============================] - 0s 2ms/step - loss: -2745.8374\n",
      "Epoch 68/500\n",
      "161/161 [==============================] - 0s 2ms/step - loss: -2821.6599\n",
      "Epoch 69/500\n",
      "161/161 [==============================] - 0s 2ms/step - loss: -2898.4331\n",
      "Epoch 70/500\n",
      "161/161 [==============================] - 0s 2ms/step - loss: -2976.1262\n",
      "Epoch 71/500\n",
      "161/161 [==============================] - 0s 2ms/step - loss: -3054.7849\n",
      "Epoch 72/500\n",
      "161/161 [==============================] - 0s 2ms/step - loss: -3134.3955\n",
      "Epoch 73/500\n",
      "161/161 [==============================] - 0s 2ms/step - loss: -3214.9810\n",
      "Epoch 74/500\n",
      "161/161 [==============================] - 0s 2ms/step - loss: -3296.5210\n",
      "Epoch 75/500\n",
      "161/161 [==============================] - 0s 2ms/step - loss: -3379.0103\n",
      "Epoch 76/500\n",
      "161/161 [==============================] - 0s 1ms/step - loss: -3462.5010A: 0s - loss: -3361.\n",
      "Epoch 77/500\n",
      "161/161 [==============================] - 0s 2ms/step - loss: -3546.9316\n",
      "Epoch 78/500\n",
      "161/161 [==============================] - 0s 2ms/step - loss: -3632.3640\n",
      "Epoch 79/500\n",
      "161/161 [==============================] - 0s 2ms/step - loss: -3718.7554\n",
      "Epoch 80/500\n",
      "161/161 [==============================] - 0s 2ms/step - loss: -3806.0542\n",
      "Epoch 81/500\n",
      "161/161 [==============================] - 0s 2ms/step - loss: -3894.3140\n",
      "Epoch 82/500\n",
      "161/161 [==============================] - 0s 2ms/step - loss: -3983.5415\n",
      "Epoch 83/500\n",
      "161/161 [==============================] - 0s 2ms/step - loss: -4073.6936\n",
      "Epoch 84/500\n",
      "161/161 [==============================] - 0s 2ms/step - loss: -4164.8306\n",
      "Epoch 85/500\n",
      "161/161 [==============================] - 0s 2ms/step - loss: -4256.8994\n",
      "Epoch 86/500\n",
      "161/161 [==============================] - 0s 2ms/step - loss: -4349.9126\n",
      "Epoch 87/500\n",
      "161/161 [==============================] - 0s 2ms/step - loss: -4443.9258\n",
      "Epoch 88/500\n",
      "161/161 [==============================] - 0s 2ms/step - loss: -4538.9165\n",
      "Epoch 89/500\n",
      "161/161 [==============================] - 0s 2ms/step - loss: -4634.9077\n",
      "Epoch 90/500\n",
      "161/161 [==============================] - 0s 2ms/step - loss: -4731.8276\n",
      "Epoch 91/500\n",
      "161/161 [==============================] - 0s 2ms/step - loss: -4829.6812\n",
      "Epoch 92/500\n",
      "161/161 [==============================] - 0s 2ms/step - loss: -4928.5044\n",
      "Epoch 93/500\n",
      "161/161 [==============================] - 0s 3ms/step - loss: -5028.2798\n",
      "Epoch 94/500\n",
      "161/161 [==============================] - 0s 2ms/step - loss: -5129.1333\n",
      "Epoch 95/500\n"
     ]
    },
    {
     "name": "stdout",
     "output_type": "stream",
     "text": [
      "161/161 [==============================] - 0s 2ms/step - loss: -5230.9121\n",
      "Epoch 96/500\n",
      "161/161 [==============================] - 0s 2ms/step - loss: -5333.6304\n",
      "Epoch 97/500\n",
      "161/161 [==============================] - 0s 2ms/step - loss: -5437.2642\n",
      "Epoch 98/500\n",
      "161/161 [==============================] - 0s 2ms/step - loss: -5541.9150\n",
      "Epoch 99/500\n",
      "161/161 [==============================] - 0s 2ms/step - loss: -5647.5386\n",
      "Epoch 100/500\n",
      "161/161 [==============================] - 0s 2ms/step - loss: -5754.0986\n",
      "Epoch 101/500\n",
      "161/161 [==============================] - 0s 2ms/step - loss: -5861.6050\n",
      "Epoch 102/500\n",
      "161/161 [==============================] - 0s 2ms/step - loss: -5970.0171\n",
      "Epoch 103/500\n",
      "161/161 [==============================] - 0s 2ms/step - loss: -6079.4316\n",
      "Epoch 104/500\n",
      "161/161 [==============================] - 0s 2ms/step - loss: -6189.7778\n",
      "Epoch 105/500\n",
      "161/161 [==============================] - 0s 2ms/step - loss: -6301.0786\n",
      "Epoch 106/500\n",
      "161/161 [==============================] - 0s 2ms/step - loss: -6413.3740\n",
      "Epoch 107/500\n",
      "161/161 [==============================] - 0s 2ms/step - loss: -6526.6367\n",
      "Epoch 108/500\n",
      "161/161 [==============================] - 0s 2ms/step - loss: -6640.7783\n",
      "Epoch 109/500\n",
      "161/161 [==============================] - 0s 2ms/step - loss: -6755.9126\n",
      "Epoch 110/500\n",
      "161/161 [==============================] - 0s 2ms/step - loss: -6872.0225A: 0s - loss: -6800.2\n",
      "Epoch 111/500\n",
      "161/161 [==============================] - ETA: 0s - loss: -6984.962 - 0s 2ms/step - loss: -6989.0649\n",
      "Epoch 112/500\n",
      "161/161 [==============================] - 0s 2ms/step - loss: -7107.0396\n",
      "Epoch 113/500\n",
      "161/161 [==============================] - 0s 2ms/step - loss: -7226.0400\n",
      "Epoch 114/500\n",
      "161/161 [==============================] - 0s 1ms/step - loss: -7345.9834\n",
      "Epoch 115/500\n",
      "161/161 [==============================] - 0s 2ms/step - loss: -7466.8989\n",
      "Epoch 116/500\n",
      "161/161 [==============================] - 0s 2ms/step - loss: -7588.7485\n",
      "Epoch 117/500\n",
      "161/161 [==============================] - 0s 2ms/step - loss: -7711.5767\n",
      "Epoch 118/500\n",
      "161/161 [==============================] - 0s 2ms/step - loss: -7835.3618\n",
      "Epoch 119/500\n",
      "161/161 [==============================] - 0s 2ms/step - loss: -7960.1562\n",
      "Epoch 120/500\n",
      "161/161 [==============================] - 0s 2ms/step - loss: -8085.9336\n",
      "Epoch 121/500\n",
      "161/161 [==============================] - 0s 1ms/step - loss: -8212.6162\n",
      "Epoch 122/500\n",
      "161/161 [==============================] - 0s 1ms/step - loss: -8340.2773\n",
      "Epoch 123/500\n",
      "161/161 [==============================] - 0s 2ms/step - loss: -8468.7998\n",
      "Epoch 124/500\n",
      "161/161 [==============================] - 0s 2ms/step - loss: -8598.2617\n",
      "Epoch 125/500\n",
      "161/161 [==============================] - 0s 2ms/step - loss: -8728.7021\n",
      "Epoch 126/500\n",
      "161/161 [==============================] - 0s 2ms/step - loss: -8860.0947\n",
      "Epoch 127/500\n",
      "161/161 [==============================] - 0s 2ms/step - loss: -8992.5283\n",
      "Epoch 128/500\n",
      "161/161 [==============================] - 0s 2ms/step - loss: -9125.9316\n",
      "Epoch 129/500\n",
      "161/161 [==============================] - 0s 1ms/step - loss: -9260.3281\n",
      "Epoch 130/500\n",
      "161/161 [==============================] - 0s 1ms/step - loss: -9395.5684\n",
      "Epoch 131/500\n",
      "161/161 [==============================] - 0s 2ms/step - loss: -9531.7910\n",
      "Epoch 132/500\n",
      "161/161 [==============================] - 0s 2ms/step - loss: -9668.9580\n",
      "Epoch 133/500\n",
      "161/161 [==============================] - 0s 2ms/step - loss: -9807.0576\n",
      "Epoch 134/500\n",
      "161/161 [==============================] - 0s 2ms/step - loss: -9946.1494\n",
      "Epoch 135/500\n",
      "161/161 [==============================] - 0s 2ms/step - loss: -10086.2100\n",
      "Epoch 136/500\n",
      "161/161 [==============================] - 0s 1ms/step - loss: -10227.1787\n",
      "Epoch 137/500\n",
      "161/161 [==============================] - 0s 1ms/step - loss: -10369.0508\n",
      "Epoch 138/500\n",
      "161/161 [==============================] - 0s 2ms/step - loss: -10511.9473\n",
      "Epoch 139/500\n",
      "161/161 [==============================] - 0s 2ms/step - loss: -10655.7549\n",
      "Epoch 140/500\n",
      "161/161 [==============================] - 0s 1ms/step - loss: -10800.4248\n",
      "Epoch 141/500\n",
      "161/161 [==============================] - 0s 2ms/step - loss: -10946.1494\n",
      "Epoch 142/500\n",
      "161/161 [==============================] - 0s 2ms/step - loss: -11092.7832\n",
      "Epoch 143/500\n",
      "161/161 [==============================] - 0s 2ms/step - loss: -11240.3975: 0s - loss: -1115\n",
      "Epoch 144/500\n",
      "161/161 [==============================] - 0s 2ms/step - loss: -11388.9326\n",
      "Epoch 145/500\n",
      "161/161 [==============================] - 0s 2ms/step - loss: -11538.3027\n",
      "Epoch 146/500\n",
      "161/161 [==============================] - 0s 2ms/step - loss: -11688.6885\n",
      "Epoch 147/500\n",
      "161/161 [==============================] - 0s 2ms/step - loss: -11840.0967\n",
      "Epoch 148/500\n",
      "161/161 [==============================] - 0s 2ms/step - loss: -11992.4629\n",
      "Epoch 149/500\n",
      "161/161 [==============================] - 0s 2ms/step - loss: -12145.8018\n",
      "Epoch 150/500\n",
      "161/161 [==============================] - 0s 2ms/step - loss: -12300.1367\n",
      "Epoch 151/500\n",
      "161/161 [==============================] - 0s 2ms/step - loss: -12455.3320\n",
      "Epoch 152/500\n",
      "161/161 [==============================] - 0s 2ms/step - loss: -12611.5234\n",
      "Epoch 153/500\n",
      "161/161 [==============================] - 0s 2ms/step - loss: -12768.6211\n",
      "Epoch 154/500\n",
      "161/161 [==============================] - 0s 2ms/step - loss: -12926.6025\n",
      "Epoch 155/500\n",
      "161/161 [==============================] - 0s 2ms/step - loss: -13085.4658\n",
      "Epoch 156/500\n",
      "161/161 [==============================] - 0s 2ms/step - loss: -13245.3369\n",
      "Epoch 157/500\n",
      "161/161 [==============================] - 0s 2ms/step - loss: -13406.1787\n",
      "Epoch 158/500\n",
      "161/161 [==============================] - 0s 2ms/step - loss: -13568.0391\n",
      "Epoch 159/500\n",
      "161/161 [==============================] - 0s 2ms/step - loss: -13730.7998\n",
      "Epoch 160/500\n",
      "161/161 [==============================] - 0s 2ms/step - loss: -13894.5166\n",
      "Epoch 161/500\n",
      "161/161 [==============================] - 0s 2ms/step - loss: -14059.2324\n",
      "Epoch 162/500\n",
      "161/161 [==============================] - 0s 2ms/step - loss: -14224.9141\n",
      "Epoch 163/500\n",
      "161/161 [==============================] - 0s 2ms/step - loss: -14391.5811\n",
      "Epoch 164/500\n",
      "161/161 [==============================] - 0s 2ms/step - loss: -14559.1689\n",
      "Epoch 165/500\n",
      "161/161 [==============================] - 0s 2ms/step - loss: -14727.6562\n",
      "Epoch 166/500\n",
      "161/161 [==============================] - 0s 2ms/step - loss: -14897.0469\n",
      "Epoch 167/500\n",
      "161/161 [==============================] - 0s 2ms/step - loss: -15067.5020\n",
      "Epoch 168/500\n",
      "161/161 [==============================] - 0s 2ms/step - loss: -15238.7734\n",
      "Epoch 169/500\n",
      "161/161 [==============================] - 0s 2ms/step - loss: -15411.0361\n",
      "Epoch 170/500\n",
      "161/161 [==============================] - 0s 2ms/step - loss: -15584.2256\n",
      "Epoch 171/500\n",
      "161/161 [==============================] - 0s 2ms/step - loss: -15758.4590\n",
      "Epoch 172/500\n",
      "161/161 [==============================] - 0s 2ms/step - loss: -15933.5312\n",
      "Epoch 173/500\n",
      "161/161 [==============================] - 0s 2ms/step - loss: -16109.5215\n",
      "Epoch 174/500\n",
      "161/161 [==============================] - 0s 2ms/step - loss: -16286.5596\n",
      "Epoch 175/500\n",
      "161/161 [==============================] - 0s 2ms/step - loss: -16464.4023\n",
      "Epoch 176/500\n",
      "161/161 [==============================] - 0s 2ms/step - loss: -16643.3281\n",
      "Epoch 177/500\n",
      "161/161 [==============================] - 0s 2ms/step - loss: -16823.2012\n",
      "Epoch 178/500\n",
      "161/161 [==============================] - 0s 2ms/step - loss: -17004.0449\n",
      "Epoch 179/500\n",
      "161/161 [==============================] - 0s 2ms/step - loss: -17185.6465\n",
      "Epoch 180/500\n",
      "161/161 [==============================] - 0s 2ms/step - loss: -17368.3184\n",
      "Epoch 181/500\n",
      "161/161 [==============================] - 0s 2ms/step - loss: -17551.8613: 0s - loss: -17\n",
      "Epoch 182/500\n",
      "161/161 [==============================] - 0s 2ms/step - loss: -17736.4570\n",
      "Epoch 183/500\n",
      "161/161 [==============================] - 0s 2ms/step - loss: -17921.8926\n",
      "Epoch 184/500\n",
      "161/161 [==============================] - 0s 2ms/step - loss: -18108.2617\n",
      "Epoch 185/500\n",
      "161/161 [==============================] - 0s 2ms/step - loss: -18295.4902\n",
      "Epoch 186/500\n"
     ]
    },
    {
     "name": "stdout",
     "output_type": "stream",
     "text": [
      "161/161 [==============================] - 0s 2ms/step - loss: -18483.7734\n",
      "Epoch 187/500\n",
      "161/161 [==============================] - 0s 1ms/step - loss: -18673.1191\n",
      "Epoch 188/500\n",
      "161/161 [==============================] - 0s 1ms/step - loss: -18863.4336\n",
      "Epoch 189/500\n",
      "161/161 [==============================] - 0s 1ms/step - loss: -19054.5605\n",
      "Epoch 190/500\n",
      "161/161 [==============================] - 0s 1ms/step - loss: -19246.7246\n",
      "Epoch 191/500\n",
      "161/161 [==============================] - 0s 2ms/step - loss: -19439.8105\n",
      "Epoch 192/500\n",
      "161/161 [==============================] - 0s 2ms/step - loss: -19633.7461\n",
      "Epoch 193/500\n",
      "161/161 [==============================] - 0s 2ms/step - loss: -19828.5977\n",
      "Epoch 194/500\n",
      "161/161 [==============================] - 0s 2ms/step - loss: -20024.4473\n",
      "Epoch 195/500\n",
      "161/161 [==============================] - 0s 2ms/step - loss: -20221.2812\n",
      "Epoch 196/500\n",
      "161/161 [==============================] - 0s 2ms/step - loss: -20419.0020\n",
      "Epoch 197/500\n",
      "161/161 [==============================] - 0s 2ms/step - loss: -20617.7480\n",
      "Epoch 198/500\n",
      "161/161 [==============================] - 0s 2ms/step - loss: -20817.4199\n",
      "Epoch 199/500\n",
      "161/161 [==============================] - 0s 2ms/step - loss: -21018.0117\n",
      "Epoch 200/500\n",
      "161/161 [==============================] - 0s 2ms/step - loss: -21219.4746\n",
      "Epoch 201/500\n",
      "161/161 [==============================] - 0s 2ms/step - loss: -21421.9141\n",
      "Epoch 202/500\n",
      "161/161 [==============================] - 0s 2ms/step - loss: -21625.4082\n",
      "Epoch 203/500\n",
      "161/161 [==============================] - 0s 2ms/step - loss: -21829.8262\n",
      "Epoch 204/500\n",
      "161/161 [==============================] - 0s 2ms/step - loss: -22035.1484\n",
      "Epoch 205/500\n",
      "161/161 [==============================] - 0s 2ms/step - loss: -22241.3457\n",
      "Epoch 206/500\n",
      "161/161 [==============================] - 0s 2ms/step - loss: -22448.6035\n",
      "Epoch 207/500\n",
      "161/161 [==============================] - 0s 2ms/step - loss: -22656.8320\n",
      "Epoch 208/500\n",
      "161/161 [==============================] - 0s 2ms/step - loss: -22865.8242: 0s - loss: -22\n",
      "Epoch 209/500\n",
      "161/161 [==============================] - 0s 2ms/step - loss: -23075.7520\n",
      "Epoch 210/500\n",
      "161/161 [==============================] - 0s 2ms/step - loss: -23286.6094\n",
      "Epoch 211/500\n",
      "161/161 [==============================] - 0s 2ms/step - loss: -23498.4785\n",
      "Epoch 212/500\n",
      "161/161 [==============================] - 0s 2ms/step - loss: -23711.2441\n",
      "Epoch 213/500\n",
      "161/161 [==============================] - 0s 2ms/step - loss: -23925.1055\n",
      "Epoch 214/500\n",
      "161/161 [==============================] - 0s 2ms/step - loss: -24139.8027\n",
      "Epoch 215/500\n",
      "161/161 [==============================] - 0s 2ms/step - loss: -24355.3828\n",
      "Epoch 216/500\n",
      "161/161 [==============================] - 0s 2ms/step - loss: -24571.7637\n",
      "Epoch 217/500\n",
      "161/161 [==============================] - 0s 2ms/step - loss: -24789.3105: 0s - loss: -24646.\n",
      "Epoch 218/500\n",
      "161/161 [==============================] - 0s 2ms/step - loss: -25007.6855\n",
      "Epoch 219/500\n",
      "161/161 [==============================] - 0s 2ms/step - loss: -25227.0430\n",
      "Epoch 220/500\n",
      "161/161 [==============================] - 0s 2ms/step - loss: -25447.3145\n",
      "Epoch 221/500\n",
      "161/161 [==============================] - 0s 2ms/step - loss: -25668.5430\n",
      "Epoch 222/500\n",
      "161/161 [==============================] - 0s 2ms/step - loss: -25890.7637\n",
      "Epoch 223/500\n",
      "161/161 [==============================] - 0s 2ms/step - loss: -26113.9668\n",
      "Epoch 224/500\n",
      "161/161 [==============================] - 0s 2ms/step - loss: -26338.0703\n",
      "Epoch 225/500\n",
      "161/161 [==============================] - 0s 2ms/step - loss: -26563.1426\n",
      "Epoch 226/500\n",
      "161/161 [==============================] - 0s 2ms/step - loss: -26789.1934\n",
      "Epoch 227/500\n",
      "161/161 [==============================] - 0s 2ms/step - loss: -27016.0156\n",
      "Epoch 228/500\n",
      "161/161 [==============================] - 0s 2ms/step - loss: -27243.8398\n",
      "Epoch 229/500\n",
      "161/161 [==============================] - 0s 1ms/step - loss: -27472.5645\n",
      "Epoch 230/500\n",
      "161/161 [==============================] - 0s 1ms/step - loss: -27702.2676\n",
      "Epoch 231/500\n",
      "161/161 [==============================] - 0s 2ms/step - loss: -27932.8496\n",
      "Epoch 232/500\n",
      "161/161 [==============================] - 0s 2ms/step - loss: -28164.4629\n",
      "Epoch 233/500\n",
      "161/161 [==============================] - 0s 2ms/step - loss: -28397.0527\n",
      "Epoch 234/500\n",
      "161/161 [==============================] - 0s 2ms/step - loss: -28630.5586\n",
      "Epoch 235/500\n",
      "161/161 [==============================] - 0s 2ms/step - loss: -28865.1777\n",
      "Epoch 236/500\n",
      "161/161 [==============================] - 0s 2ms/step - loss: -29100.4902\n",
      "Epoch 237/500\n",
      "161/161 [==============================] - 0s 2ms/step - loss: -29336.7363\n",
      "Epoch 238/500\n",
      "161/161 [==============================] - 0s 2ms/step - loss: -29573.8398\n",
      "Epoch 239/500\n",
      "161/161 [==============================] - 0s 2ms/step - loss: -29811.9238\n",
      "Epoch 240/500\n",
      "161/161 [==============================] - 0s 2ms/step - loss: -30050.8652\n",
      "Epoch 241/500\n",
      "161/161 [==============================] - 0s 2ms/step - loss: -30290.8926\n",
      "Epoch 242/500\n",
      "161/161 [==============================] - 0s 2ms/step - loss: -30531.8652\n",
      "Epoch 243/500\n",
      "161/161 [==============================] - 0s 2ms/step - loss: -30773.7812\n",
      "Epoch 244/500\n",
      "161/161 [==============================] - 0s 2ms/step - loss: -31016.5898\n",
      "Epoch 245/500\n",
      "161/161 [==============================] - 0s 2ms/step - loss: -31260.4727\n",
      "Epoch 246/500\n",
      "161/161 [==============================] - 0s 2ms/step - loss: -31505.0645\n",
      "Epoch 247/500\n",
      "161/161 [==============================] - 0s 2ms/step - loss: -31750.6660\n",
      "Epoch 248/500\n",
      "161/161 [==============================] - 0s 2ms/step - loss: -31997.3828\n",
      "Epoch 249/500\n",
      "161/161 [==============================] - 0s 2ms/step - loss: -32245.0508\n",
      "Epoch 250/500\n",
      "161/161 [==============================] - 0s 2ms/step - loss: -32493.7422\n",
      "Epoch 251/500\n",
      "161/161 [==============================] - 0s 2ms/step - loss: -32743.3086\n",
      "Epoch 252/500\n",
      "161/161 [==============================] - 0s 2ms/step - loss: -32993.8984\n",
      "Epoch 253/500\n",
      "161/161 [==============================] - 0s 2ms/step - loss: -33245.4414\n",
      "Epoch 254/500\n",
      "161/161 [==============================] - 0s 2ms/step - loss: -33497.7461\n",
      "Epoch 255/500\n",
      "161/161 [==============================] - 0s 2ms/step - loss: -33751.0977\n",
      "Epoch 256/500\n",
      "161/161 [==============================] - 0s 2ms/step - loss: -34005.3633\n",
      "Epoch 257/500\n",
      "161/161 [==============================] - 0s 2ms/step - loss: -34260.6562\n",
      "Epoch 258/500\n",
      "161/161 [==============================] - 0s 2ms/step - loss: -34516.8789\n",
      "Epoch 259/500\n",
      "161/161 [==============================] - 0s 2ms/step - loss: -34774.0039\n",
      "Epoch 260/500\n",
      "161/161 [==============================] - 0s 2ms/step - loss: -35032.0078\n",
      "Epoch 261/500\n",
      "161/161 [==============================] - 0s 2ms/step - loss: -35291.1016\n",
      "Epoch 262/500\n",
      "161/161 [==============================] - 0s 2ms/step - loss: -35551.1250\n",
      "Epoch 263/500\n",
      "161/161 [==============================] - 0s 2ms/step - loss: -35812.0273\n",
      "Epoch 264/500\n",
      "161/161 [==============================] - 0s 2ms/step - loss: -36073.8594\n",
      "Epoch 265/500\n",
      "161/161 [==============================] - 0s 2ms/step - loss: -36336.5117\n",
      "Epoch 266/500\n",
      "161/161 [==============================] - 0s 2ms/step - loss: -36600.0742\n",
      "Epoch 267/500\n",
      "161/161 [==============================] - 0s 2ms/step - loss: -36864.4844\n",
      "Epoch 268/500\n",
      "161/161 [==============================] - 0s 1ms/step - loss: -37129.9492\n",
      "Epoch 269/500\n",
      "161/161 [==============================] - 0s 2ms/step - loss: -37396.4492\n",
      "Epoch 270/500\n",
      "161/161 [==============================] - 0s 2ms/step - loss: -37663.8008\n",
      "Epoch 271/500\n",
      "161/161 [==============================] - 0s 2ms/step - loss: -37932.2305\n",
      "Epoch 272/500\n",
      "161/161 [==============================] - 0s 2ms/step - loss: -38201.3945\n",
      "Epoch 273/500\n",
      "161/161 [==============================] - 0s 2ms/step - loss: -38471.6602\n",
      "Epoch 274/500\n",
      "161/161 [==============================] - 0s 2ms/step - loss: -38742.8555\n",
      "Epoch 275/500\n",
      "161/161 [==============================] - 0s 2ms/step - loss: -39015.0781\n",
      "Epoch 276/500\n",
      "161/161 [==============================] - 0s 1ms/step - loss: -39288.1406\n",
      "Epoch 277/500\n"
     ]
    },
    {
     "name": "stdout",
     "output_type": "stream",
     "text": [
      "161/161 [==============================] - 0s 2ms/step - loss: -39562.1797\n",
      "Epoch 278/500\n",
      "161/161 [==============================] - 0s 1ms/step - loss: -39837.1406\n",
      "Epoch 279/500\n",
      "161/161 [==============================] - 0s 1ms/step - loss: -40113.0469\n",
      "Epoch 280/500\n",
      "161/161 [==============================] - 0s 1ms/step - loss: -40389.7227\n",
      "Epoch 281/500\n",
      "161/161 [==============================] - 0s 2ms/step - loss: -40667.3125\n",
      "Epoch 282/500\n",
      "161/161 [==============================] - 0s 2ms/step - loss: -40945.8828\n",
      "Epoch 283/500\n",
      "161/161 [==============================] - 0s 1ms/step - loss: -41225.4609\n",
      "Epoch 284/500\n",
      "161/161 [==============================] - 0s 2ms/step - loss: -41505.8945\n",
      "Epoch 285/500\n",
      "161/161 [==============================] - 0s 2ms/step - loss: -41787.0938\n",
      "Epoch 286/500\n",
      "161/161 [==============================] - 0s 2ms/step - loss: -42069.3203\n",
      "Epoch 287/500\n",
      "161/161 [==============================] - 0s 2ms/step - loss: -42352.5625\n",
      "Epoch 288/500\n",
      "161/161 [==============================] - 0s 2ms/step - loss: -42636.7930\n",
      "Epoch 289/500\n",
      "161/161 [==============================] - 0s 2ms/step - loss: -42921.9023\n",
      "Epoch 290/500\n",
      "161/161 [==============================] - 0s 2ms/step - loss: -43208.0234: 0s - loss: -43032.\n",
      "Epoch 291/500\n",
      "161/161 [==============================] - 0s 2ms/step - loss: -43494.9414\n",
      "Epoch 292/500\n",
      "161/161 [==============================] - 0s 2ms/step - loss: -43782.9492\n",
      "Epoch 293/500\n",
      "161/161 [==============================] - 0s 2ms/step - loss: -44071.8945\n",
      "Epoch 294/500\n",
      "161/161 [==============================] - 0s 2ms/step - loss: -44361.6602\n",
      "Epoch 295/500\n",
      "161/161 [==============================] - 0s 2ms/step - loss: -44652.3438\n",
      "Epoch 296/500\n",
      "161/161 [==============================] - 0s 2ms/step - loss: -44944.0234\n",
      "Epoch 297/500\n",
      "161/161 [==============================] - 0s 2ms/step - loss: -45236.7031\n",
      "Epoch 298/500\n",
      "161/161 [==============================] - 0s 2ms/step - loss: -45530.1992\n",
      "Epoch 299/500\n",
      "161/161 [==============================] - 0s 2ms/step - loss: -45824.6328\n",
      "Epoch 300/500\n",
      "161/161 [==============================] - 0s 2ms/step - loss: -46120.0508\n",
      "Epoch 301/500\n",
      "161/161 [==============================] - 0s 2ms/step - loss: -46416.3945\n",
      "Epoch 302/500\n",
      "161/161 [==============================] - 0s 2ms/step - loss: -46713.5156\n",
      "Epoch 303/500\n",
      "161/161 [==============================] - 0s 2ms/step - loss: -47011.5938\n",
      "Epoch 304/500\n",
      "161/161 [==============================] - 0s 2ms/step - loss: -47310.4531: 0s - loss: -\n",
      "Epoch 305/500\n",
      "161/161 [==============================] - 0s 2ms/step - loss: -47610.3867\n",
      "Epoch 306/500\n",
      "161/161 [==============================] - 0s 2ms/step - loss: -47911.2148\n",
      "Epoch 307/500\n",
      "161/161 [==============================] - 0s 2ms/step - loss: -48213.0742\n",
      "Epoch 308/500\n",
      "161/161 [==============================] - 0s 2ms/step - loss: -48515.7188\n",
      "Epoch 309/500\n",
      "161/161 [==============================] - 0s 2ms/step - loss: -48819.4648\n",
      "Epoch 310/500\n",
      "161/161 [==============================] - 0s 2ms/step - loss: -49124.0312\n",
      "Epoch 311/500\n",
      "161/161 [==============================] - 0s 2ms/step - loss: -49429.6992\n",
      "Epoch 312/500\n",
      "161/161 [==============================] - 0s 2ms/step - loss: -49736.1836\n",
      "Epoch 313/500\n",
      "161/161 [==============================] - 0s 2ms/step - loss: -50043.6094\n",
      "Epoch 314/500\n",
      "161/161 [==============================] - 0s 2ms/step - loss: -50352.1211\n",
      "Epoch 315/500\n",
      "161/161 [==============================] - 0s 2ms/step - loss: -50661.4961\n",
      "Epoch 316/500\n",
      "161/161 [==============================] - 0s 1ms/step - loss: -50971.8281\n",
      "Epoch 317/500\n",
      "161/161 [==============================] - 0s 1ms/step - loss: -51283.0391\n",
      "Epoch 318/500\n",
      "161/161 [==============================] - 0s 2ms/step - loss: -51595.1602\n",
      "Epoch 319/500\n",
      "161/161 [==============================] - 0s 2ms/step - loss: -51908.2188\n",
      "Epoch 320/500\n",
      "161/161 [==============================] - 0s 2ms/step - loss: -52222.3281\n",
      "Epoch 321/500\n",
      "161/161 [==============================] - 0s 2ms/step - loss: -52537.2109\n",
      "Epoch 322/500\n",
      "161/161 [==============================] - 0s 2ms/step - loss: -52853.3086\n",
      "Epoch 323/500\n",
      "161/161 [==============================] - 0s 2ms/step - loss: -53170.2188\n",
      "Epoch 324/500\n",
      "161/161 [==============================] - 0s 2ms/step - loss: -53488.1250\n",
      "Epoch 325/500\n",
      "161/161 [==============================] - 0s 2ms/step - loss: -53806.8516\n",
      "Epoch 326/500\n",
      "161/161 [==============================] - 0s 2ms/step - loss: -54126.5469\n",
      "Epoch 327/500\n",
      "161/161 [==============================] - 0s 2ms/step - loss: -54446.9492\n",
      "Epoch 328/500\n",
      "161/161 [==============================] - 0s 2ms/step - loss: -54768.3672\n",
      "Epoch 329/500\n",
      "161/161 [==============================] - 0s 2ms/step - loss: -55090.7422\n",
      "Epoch 330/500\n",
      "161/161 [==============================] - 0s 2ms/step - loss: -55414.0625\n",
      "Epoch 331/500\n",
      "161/161 [==============================] - 0s 2ms/step - loss: -55738.3359\n",
      "Epoch 332/500\n",
      "161/161 [==============================] - 0s 2ms/step - loss: -56063.5586\n",
      "Epoch 333/500\n",
      "161/161 [==============================] - 0s 2ms/step - loss: -56389.5273\n",
      "Epoch 334/500\n",
      "161/161 [==============================] - 0s 2ms/step - loss: -56716.3750\n",
      "Epoch 335/500\n",
      "161/161 [==============================] - 0s 2ms/step - loss: -57044.3164\n",
      "Epoch 336/500\n",
      "161/161 [==============================] - 0s 2ms/step - loss: -57373.0742\n",
      "Epoch 337/500\n",
      "161/161 [==============================] - 0s 2ms/step - loss: -57702.7891\n",
      "Epoch 338/500\n",
      "161/161 [==============================] - 0s 2ms/step - loss: -58033.4062\n",
      "Epoch 339/500\n",
      "161/161 [==============================] - 0s 2ms/step - loss: -58364.9922: 0s - loss: -58136.17\n",
      "Epoch 340/500\n",
      "161/161 [==============================] - 0s 2ms/step - loss: -58697.7227\n",
      "Epoch 341/500\n",
      "161/161 [==============================] - 0s 2ms/step - loss: -59031.2500\n",
      "Epoch 342/500\n",
      "161/161 [==============================] - 0s 2ms/step - loss: -59365.6094\n",
      "Epoch 343/500\n",
      "161/161 [==============================] - 0s 2ms/step - loss: -59700.8125\n",
      "Epoch 344/500\n",
      "161/161 [==============================] - 0s 2ms/step - loss: -60037.0234\n",
      "Epoch 345/500\n",
      "161/161 [==============================] - 0s 2ms/step - loss: -60374.1836\n",
      "Epoch 346/500\n",
      "161/161 [==============================] - 0s 2ms/step - loss: -60712.4180\n",
      "Epoch 347/500\n",
      "161/161 [==============================] - 0s 2ms/step - loss: -61051.5117\n",
      "Epoch 348/500\n",
      "161/161 [==============================] - 0s 2ms/step - loss: -61391.6445\n",
      "Epoch 349/500\n",
      "161/161 [==============================] - 0s 2ms/step - loss: -61732.6523: 0s - loss: -61953.88\n",
      "Epoch 350/500\n",
      "161/161 [==============================] - 0s 2ms/step - loss: -62074.7656\n",
      "Epoch 351/500\n",
      "161/161 [==============================] - 0s 2ms/step - loss: -62417.7266\n",
      "Epoch 352/500\n",
      "161/161 [==============================] - 0s 2ms/step - loss: -62761.5078\n",
      "Epoch 353/500\n",
      "161/161 [==============================] - 0s 2ms/step - loss: -63106.5664\n",
      "Epoch 354/500\n",
      "161/161 [==============================] - 0s 1ms/step - loss: -63452.2930\n",
      "Epoch 355/500\n",
      "161/161 [==============================] - 0s 1ms/step - loss: -63798.9062\n",
      "Epoch 356/500\n",
      "161/161 [==============================] - 0s 2ms/step - loss: -64146.2227\n",
      "Epoch 357/500\n",
      "161/161 [==============================] - 0s 2ms/step - loss: -64494.6172\n",
      "Epoch 358/500\n",
      "161/161 [==============================] - 0s 2ms/step - loss: -64843.9766\n",
      "Epoch 359/500\n",
      "161/161 [==============================] - 0s 1ms/step - loss: -65194.2969\n",
      "Epoch 360/500\n",
      "161/161 [==============================] - 0s 2ms/step - loss: -65545.4375\n",
      "Epoch 361/500\n",
      "161/161 [==============================] - 0s 2ms/step - loss: -65897.5859\n",
      "Epoch 362/500\n",
      "161/161 [==============================] - 0s 2ms/step - loss: -66250.6016\n",
      "Epoch 363/500\n",
      "161/161 [==============================] - 0s 2ms/step - loss: -66604.5859\n",
      "Epoch 364/500\n",
      "161/161 [==============================] - 0s 2ms/step - loss: -66959.7109\n",
      "Epoch 365/500\n",
      "161/161 [==============================] - 0s 2ms/step - loss: -67315.6875\n",
      "Epoch 366/500\n",
      "161/161 [==============================] - 0s 2ms/step - loss: -67672.6641\n",
      "Epoch 367/500\n",
      "161/161 [==============================] - 0s 2ms/step - loss: -68030.5547\n",
      "Epoch 368/500\n"
     ]
    },
    {
     "name": "stdout",
     "output_type": "stream",
     "text": [
      "161/161 [==============================] - 0s 2ms/step - loss: -68389.5938\n",
      "Epoch 369/500\n",
      "161/161 [==============================] - 0s 1ms/step - loss: -68749.4297\n",
      "Epoch 370/500\n",
      "161/161 [==============================] - 0s 2ms/step - loss: -69110.2422\n",
      "Epoch 371/500\n",
      "161/161 [==============================] - 0s 2ms/step - loss: -69472.0234\n",
      "Epoch 372/500\n",
      "161/161 [==============================] - 0s 2ms/step - loss: -69834.6484\n",
      "Epoch 373/500\n",
      "161/161 [==============================] - 0s 2ms/step - loss: -70198.1250\n",
      "Epoch 374/500\n",
      "161/161 [==============================] - 0s 2ms/step - loss: -70562.7344\n",
      "Epoch 375/500\n",
      "161/161 [==============================] - 0s 1ms/step - loss: -70928.1641\n",
      "Epoch 376/500\n",
      "161/161 [==============================] - 0s 2ms/step - loss: -71294.3438: 0s - loss: -71653.\n",
      "Epoch 377/500\n",
      "161/161 [==============================] - 0s 2ms/step - loss: -71661.5000\n",
      "Epoch 378/500\n",
      "161/161 [==============================] - 0s 2ms/step - loss: -72029.5156\n",
      "Epoch 379/500\n",
      "161/161 [==============================] - 0s 1ms/step - loss: -72398.5078\n",
      "Epoch 380/500\n",
      "161/161 [==============================] - 0s 2ms/step - loss: -72768.4531\n",
      "Epoch 381/500\n",
      "161/161 [==============================] - 0s 2ms/step - loss: -73139.2422\n",
      "Epoch 382/500\n",
      "161/161 [==============================] - 0s 2ms/step - loss: -73511.0859\n",
      "Epoch 383/500\n",
      "161/161 [==============================] - 0s 1ms/step - loss: -73883.6250\n",
      "Epoch 384/500\n",
      "161/161 [==============================] - 0s 2ms/step - loss: -74257.4375\n",
      "Epoch 385/500\n",
      "161/161 [==============================] - 0s 2ms/step - loss: -74631.9219\n",
      "Epoch 386/500\n",
      "161/161 [==============================] - 0s 2ms/step - loss: -75007.3828\n",
      "Epoch 387/500\n",
      "161/161 [==============================] - 0s 2ms/step - loss: -75383.9062\n",
      "Epoch 388/500\n",
      "161/161 [==============================] - 0s 2ms/step - loss: -75761.4062\n",
      "Epoch 389/500\n",
      "161/161 [==============================] - 0s 2ms/step - loss: -76139.8203\n",
      "Epoch 390/500\n",
      "161/161 [==============================] - 0s 2ms/step - loss: -76519.2969\n",
      "Epoch 391/500\n",
      "161/161 [==============================] - 0s 2ms/step - loss: -76899.5781\n",
      "Epoch 392/500\n",
      "161/161 [==============================] - 0s 2ms/step - loss: -77280.8750\n",
      "Epoch 393/500\n",
      "161/161 [==============================] - 0s 2ms/step - loss: -77663.0703\n",
      "Epoch 394/500\n",
      "161/161 [==============================] - 0s 2ms/step - loss: -78046.1484\n",
      "Epoch 395/500\n",
      "161/161 [==============================] - 0s 2ms/step - loss: -78430.1719\n",
      "Epoch 396/500\n",
      "161/161 [==============================] - 0s 2ms/step - loss: -78815.1328\n",
      "Epoch 397/500\n",
      "161/161 [==============================] - 0s 2ms/step - loss: -79200.9375\n",
      "Epoch 398/500\n",
      "161/161 [==============================] - 0s 2ms/step - loss: -79587.5859\n",
      "Epoch 399/500\n",
      "161/161 [==============================] - 0s 2ms/step - loss: -79975.1094\n",
      "Epoch 400/500\n",
      "161/161 [==============================] - 0s 2ms/step - loss: -80363.4531\n",
      "Epoch 401/500\n",
      "161/161 [==============================] - 0s 2ms/step - loss: -80752.8750\n",
      "Epoch 402/500\n",
      "161/161 [==============================] - 0s 2ms/step - loss: -81143.1406\n",
      "Epoch 403/500\n",
      "161/161 [==============================] - 0s 2ms/step - loss: -81534.4766\n",
      "Epoch 404/500\n",
      "161/161 [==============================] - 0s 2ms/step - loss: -81926.5625\n",
      "Epoch 405/500\n",
      "161/161 [==============================] - 0s 2ms/step - loss: -82319.7656\n",
      "Epoch 406/500\n",
      "161/161 [==============================] - 0s 2ms/step - loss: -82713.7656\n",
      "Epoch 407/500\n",
      "161/161 [==============================] - 0s 2ms/step - loss: -83108.7031\n",
      "Epoch 408/500\n",
      "161/161 [==============================] - 0s 2ms/step - loss: -83504.5391\n",
      "Epoch 409/500\n",
      "161/161 [==============================] - 0s 2ms/step - loss: -83901.3047\n",
      "Epoch 410/500\n",
      "161/161 [==============================] - 0s 2ms/step - loss: -84298.9844\n",
      "Epoch 411/500\n",
      "161/161 [==============================] - 0s 2ms/step - loss: -84697.7344\n",
      "Epoch 412/500\n",
      "161/161 [==============================] - 0s 2ms/step - loss: -85097.1797\n",
      "Epoch 413/500\n",
      "161/161 [==============================] - 0s 2ms/step - loss: -85497.7891\n",
      "Epoch 414/500\n",
      "161/161 [==============================] - 0s 2ms/step - loss: -85899.4062\n",
      "Epoch 415/500\n",
      "161/161 [==============================] - 0s 2ms/step - loss: -86301.6484\n",
      "Epoch 416/500\n",
      "161/161 [==============================] - 0s 2ms/step - loss: -86704.9297\n",
      "Epoch 417/500\n",
      "161/161 [==============================] - 0s 2ms/step - loss: -87109.3984\n",
      "Epoch 418/500\n",
      "161/161 [==============================] - 0s 2ms/step - loss: -87514.8047: 0s - loss: -87642.50\n",
      "Epoch 419/500\n",
      "161/161 [==============================] - 0s 2ms/step - loss: -87920.8359\n",
      "Epoch 420/500\n",
      "161/161 [==============================] - 0s 2ms/step - loss: -88327.9609\n",
      "Epoch 421/500\n",
      "161/161 [==============================] - 0s 2ms/step - loss: -88735.8203\n",
      "Epoch 422/500\n",
      "161/161 [==============================] - 0s 2ms/step - loss: -89144.5234\n",
      "Epoch 423/500\n",
      "161/161 [==============================] - 0s 2ms/step - loss: -89554.2969\n",
      "Epoch 424/500\n",
      "161/161 [==============================] - 0s 2ms/step - loss: -89965.1094\n",
      "Epoch 425/500\n",
      "161/161 [==============================] - 0s 2ms/step - loss: -90376.8672\n",
      "Epoch 426/500\n",
      "161/161 [==============================] - 0s 2ms/step - loss: -90789.5391\n",
      "Epoch 427/500\n",
      "161/161 [==============================] - 0s 2ms/step - loss: -91203.0547\n",
      "Epoch 428/500\n",
      "161/161 [==============================] - 0s 2ms/step - loss: -91617.6250\n",
      "Epoch 429/500\n",
      "161/161 [==============================] - 0s 2ms/step - loss: -92033.1016\n",
      "Epoch 430/500\n",
      "161/161 [==============================] - 0s 2ms/step - loss: -92449.5781\n",
      "Epoch 431/500\n",
      "161/161 [==============================] - 0s 2ms/step - loss: -92867.1875\n",
      "Epoch 432/500\n",
      "161/161 [==============================] - 0s 2ms/step - loss: -93285.5938\n",
      "Epoch 433/500\n",
      "161/161 [==============================] - 0s 2ms/step - loss: -93705.0312\n",
      "Epoch 434/500\n",
      "161/161 [==============================] - 0s 2ms/step - loss: -94125.3281\n",
      "Epoch 435/500\n",
      "161/161 [==============================] - 0s 2ms/step - loss: -94546.6875\n",
      "Epoch 436/500\n",
      "161/161 [==============================] - 0s 2ms/step - loss: -94968.6250\n",
      "Epoch 437/500\n",
      "161/161 [==============================] - 0s 2ms/step - loss: -95391.4688\n",
      "Epoch 438/500\n",
      "161/161 [==============================] - 0s 1ms/step - loss: -95815.2500\n",
      "Epoch 439/500\n",
      "161/161 [==============================] - 0s 2ms/step - loss: -96240.0703\n",
      "Epoch 440/500\n",
      "161/161 [==============================] - 0s 2ms/step - loss: -96665.7734\n",
      "Epoch 441/500\n",
      "161/161 [==============================] - 0s 2ms/step - loss: -97092.5000\n",
      "Epoch 442/500\n",
      "161/161 [==============================] - 0s 2ms/step - loss: -97520.0312\n",
      "Epoch 443/500\n",
      "161/161 [==============================] - 0s 2ms/step - loss: -97948.6094\n",
      "Epoch 444/500\n",
      "161/161 [==============================] - 0s 2ms/step - loss: -98378.0781\n",
      "Epoch 445/500\n",
      "161/161 [==============================] - 0s 2ms/step - loss: -98808.6250\n",
      "Epoch 446/500\n",
      "161/161 [==============================] - 0s 2ms/step - loss: -99240.1406\n",
      "Epoch 447/500\n",
      "161/161 [==============================] - 0s 2ms/step - loss: -99672.6328\n",
      "Epoch 448/500\n",
      "161/161 [==============================] - 0s 2ms/step - loss: -100106.2578\n",
      "Epoch 449/500\n",
      "161/161 [==============================] - 0s 2ms/step - loss: -100540.4922\n",
      "Epoch 450/500\n",
      "161/161 [==============================] - 0s 2ms/step - loss: -100975.4688\n",
      "Epoch 451/500\n",
      "161/161 [==============================] - 0s 2ms/step - loss: -101411.2656\n",
      "Epoch 452/500\n",
      "161/161 [==============================] - 0s 2ms/step - loss: -101848.0000\n",
      "Epoch 453/500\n",
      "161/161 [==============================] - 0s 2ms/step - loss: -102285.7578\n",
      "Epoch 454/500\n",
      "161/161 [==============================] - 0s 2ms/step - loss: -102724.3516\n",
      "Epoch 455/500\n",
      "161/161 [==============================] - 0s 2ms/step - loss: -103163.9531\n",
      "Epoch 456/500\n",
      "161/161 [==============================] - 0s 2ms/step - loss: -103604.2500\n",
      "Epoch 457/500\n",
      "161/161 [==============================] - 0s 2ms/step - loss: -104045.7266\n",
      "Epoch 458/500\n",
      "161/161 [==============================] - 0s 2ms/step - loss: -104487.9922\n",
      "Epoch 459/500\n"
     ]
    },
    {
     "name": "stdout",
     "output_type": "stream",
     "text": [
      "161/161 [==============================] - 0s 2ms/step - loss: -104931.1953\n",
      "Epoch 460/500\n",
      "161/161 [==============================] - 0s 2ms/step - loss: -105375.2891\n",
      "Epoch 461/500\n",
      "161/161 [==============================] - 0s 2ms/step - loss: -105820.4766\n",
      "Epoch 462/500\n",
      "161/161 [==============================] - 0s 2ms/step - loss: -106266.6016\n",
      "Epoch 463/500\n",
      "161/161 [==============================] - 0s 2ms/step - loss: -106713.6484A: 0s - loss: -106571.531\n",
      "Epoch 464/500\n",
      "161/161 [==============================] - 0s 2ms/step - loss: -107161.5859\n",
      "Epoch 465/500\n",
      "161/161 [==============================] - 0s 2ms/step - loss: -107610.5703\n",
      "Epoch 466/500\n",
      "161/161 [==============================] - 0s 2ms/step - loss: -108059.9844\n",
      "Epoch 467/500\n",
      "161/161 [==============================] - 0s 2ms/step - loss: -108510.5391\n",
      "Epoch 468/500\n",
      "161/161 [==============================] - 0s 2ms/step - loss: -108962.1562\n",
      "Epoch 469/500\n",
      "161/161 [==============================] - 0s 2ms/step - loss: -109414.6250\n",
      "Epoch 470/500\n",
      "161/161 [==============================] - 0s 2ms/step - loss: -109868.1641\n",
      "Epoch 471/500\n",
      "161/161 [==============================] - 0s 2ms/step - loss: -110322.6406\n",
      "Epoch 472/500\n",
      "161/161 [==============================] - 0s 2ms/step - loss: -110777.8125\n",
      "Epoch 473/500\n",
      "161/161 [==============================] - 0s 2ms/step - loss: -111233.9766\n",
      "Epoch 474/500\n",
      "161/161 [==============================] - 0s 2ms/step - loss: -111691.1172\n",
      "Epoch 475/500\n",
      "161/161 [==============================] - 0s 2ms/step - loss: -112149.3047\n",
      "Epoch 476/500\n",
      "161/161 [==============================] - 0s 2ms/step - loss: -112608.3984\n",
      "Epoch 477/500\n",
      "161/161 [==============================] - 0s 2ms/step - loss: -113068.3047\n",
      "Epoch 478/500\n",
      "161/161 [==============================] - 0s 2ms/step - loss: -113529.3359\n",
      "Epoch 479/500\n",
      "161/161 [==============================] - 0s 2ms/step - loss: -113991.0078\n",
      "Epoch 480/500\n",
      "161/161 [==============================] - 0s 2ms/step - loss: -114453.6172\n",
      "Epoch 481/500\n",
      "161/161 [==============================] - 0s 2ms/step - loss: -114917.3516\n",
      "Epoch 482/500\n",
      "161/161 [==============================] - 0s 2ms/step - loss: -115382.0234\n",
      "Epoch 483/500\n",
      "161/161 [==============================] - 0s 1ms/step - loss: -115847.6797\n",
      "Epoch 484/500\n",
      "161/161 [==============================] - 0s 2ms/step - loss: -116314.3438\n",
      "Epoch 485/500\n",
      "161/161 [==============================] - 0s 2ms/step - loss: -116781.8828\n",
      "Epoch 486/500\n",
      "161/161 [==============================] - 0s 2ms/step - loss: -117250.0156\n",
      "Epoch 487/500\n",
      "161/161 [==============================] - 0s 1ms/step - loss: -117719.0938\n",
      "Epoch 488/500\n",
      "161/161 [==============================] - 0s 2ms/step - loss: -118188.9766\n",
      "Epoch 489/500\n",
      "161/161 [==============================] - 0s 1ms/step - loss: -118660.0391\n",
      "Epoch 490/500\n",
      "161/161 [==============================] - 0s 2ms/step - loss: -119132.0391\n",
      "Epoch 491/500\n",
      "161/161 [==============================] - 0s 2ms/step - loss: -119605.1016\n",
      "Epoch 492/500\n",
      "161/161 [==============================] - 0s 2ms/step - loss: -120078.7344\n",
      "Epoch 493/500\n",
      "161/161 [==============================] - 0s 2ms/step - loss: -120553.4141\n",
      "Epoch 494/500\n",
      "161/161 [==============================] - 0s 2ms/step - loss: -121029.1016\n",
      "Epoch 495/500\n",
      "161/161 [==============================] - 0s 2ms/step - loss: -121505.7656\n",
      "Epoch 496/500\n",
      "161/161 [==============================] - 0s 2ms/step - loss: -121983.1641\n",
      "Epoch 497/500\n",
      "161/161 [==============================] - 0s 2ms/step - loss: -122461.6406\n",
      "Epoch 498/500\n",
      "161/161 [==============================] - 0s 2ms/step - loss: -122940.8828\n",
      "Epoch 499/500\n",
      "161/161 [==============================] - 0s 2ms/step - loss: -123421.0547\n",
      "Epoch 500/500\n",
      "161/161 [==============================] - 0s 2ms/step - loss: -123902.4922\n"
     ]
    }
   ],
   "source": [
    "# Choose size of the encoded representations (reduce our initial features to this number)\n",
    "encoding_dim = 15\n",
    "# Define input layer\n",
    "input_data = Input(shape=(X.shape[1],))\n",
    "# Define encoding layer\n",
    "encoded = Dense(encoding_dim, activation='elu')(input_data)\n",
    "# Define decoding layer\n",
    "decoded = Dense(X.shape[1], activation='sigmoid')(encoded)\n",
    "# Create the autoencoder model\n",
    "autoencoder = Model(input_data, decoded)\n",
    "#Compile the autoencoder model\n",
    "autoencoder.compile(optimizer='adam',loss='binary_crossentropy')\n",
    "#Fit to set and save to hist_auto for plotting purposes\n",
    "hist_auto = autoencoder.fit(X, X,epochs=500,batch_size=256,shuffle=True)"
   ]
  },
  {
   "cell_type": "code",
   "execution_count": 12,
   "metadata": {
    "colab": {
     "base_uri": "https://localhost:8080/",
     "height": 301
    },
    "colab_type": "code",
    "id": "ipACWcuG1I6F",
    "outputId": "f9fa1848-1306-4c2e-c46c-67596c39818b"
   },
   "outputs": [
    {
     "data": {
      "image/png": "[encoded data removed]",
      "text/plain": [
       "<Figure size 432x288 with 1 Axes>"
      ]
     },
     "metadata": {},
     "output_type": "display_data"
    }
   ],
   "source": [
    "# Summarize history for loss\n",
    "plt.figure()\n",
    "plt.plot(hist_auto.history['loss'])\n",
    "plt.title('Autoencoder model loss')\n",
    "plt.ylabel('loss')\n",
    "plt.xlabel('epoch')\n",
    "plt.legend(['X'], loc='upper right')\n",
    "plt.show()"
   ]
  },
  {
   "cell_type": "code",
   "execution_count": 13,
   "metadata": {
    "colab": {
     "base_uri": "https://localhost:8080/",
     "height": 1000
    },
    "colab_type": "code",
    "id": "YHSYBEix1N45",
    "outputId": "f5594f3d-dfb6-4e73-b299-4e2535b2a670"
   },
   "outputs": [
    {
     "name": "stdout",
     "output_type": "stream",
     "text": [
      "Epoch 1/100\n",
      "512/515 [============================>.] - ETA: 0s - loss: 0.7372- ETA: 0s - loss: 0.8WARNING:tensorflow:Callbacks method `on_test_batch_end` is slow compared to the batch time (batch time: 0.0002s vs `on_test_batch_end` time: 0.0010s). Check your callbacks.\n",
      "515/515 [==============================] - 1s 2ms/step - loss: 0.7349 - val_loss: 0.7947\n",
      "Epoch 2/100\n",
      "515/515 [==============================] - 1s 1ms/step - loss: 0.2451 - val_loss: 0.6352\n",
      "Epoch 3/100\n",
      "515/515 [==============================] - 1s 1ms/step - loss: 0.2248 - val_loss: 0.7784\n",
      "Epoch 4/100\n",
      "515/515 [==============================] - 1s 1ms/step - loss: 0.2169 - val_loss: 0.6023\n",
      "Epoch 5/100\n",
      "515/515 [==============================] - 1s 1ms/step - loss: 0.2160 - val_loss: 0.6813\n",
      "Epoch 6/100\n",
      "515/515 [==============================] - 1s 1ms/step - loss: 0.2141 - val_loss: 0.6114\n",
      "Epoch 7/100\n",
      "515/515 [==============================] - 1s 1ms/step - loss: 0.2124 - val_loss: 0.6667\n",
      "Epoch 8/100\n",
      "515/515 [==============================] - 1s 1ms/step - loss: 0.2125 - val_loss: 0.6701\n",
      "Epoch 9/100\n",
      "515/515 [==============================] - 1s 2ms/step - loss: 0.2110 - val_loss: 0.6834\n",
      "Epoch 10/100\n",
      "515/515 [==============================] - 1s 1ms/step - loss: 0.2118 - val_loss: 0.7191\n",
      "Epoch 11/100\n",
      "515/515 [==============================] - 1s 1ms/step - loss: 0.2109 - val_loss: 0.6877\n",
      "Epoch 12/100\n",
      "515/515 [==============================] - 1s 1ms/step - loss: 0.2109 - val_loss: 0.6415\n",
      "Epoch 13/100\n",
      "515/515 [==============================] - 1s 1ms/step - loss: 0.2099 - val_loss: 0.6572\n",
      "Epoch 14/100\n",
      "515/515 [==============================] - 1s 1ms/step - loss: 0.2093 - val_loss: 0.6424\n",
      "Epoch 15/100\n",
      "515/515 [==============================] - 1s 1ms/step - loss: 0.2109 - val_loss: 0.7074\n",
      "Epoch 16/100\n",
      "515/515 [==============================] - 1s 1ms/step - loss: 0.2102 - val_loss: 0.8129\n",
      "Epoch 17/100\n",
      "515/515 [==============================] - 1s 1ms/step - loss: 0.2102 - val_loss: 0.7361\n",
      "Epoch 18/100\n",
      "515/515 [==============================] - 1s 1ms/step - loss: 0.2090 - val_loss: 0.7002\n",
      "Epoch 19/100\n",
      "515/515 [==============================] - 1s 1ms/step - loss: 0.2091 - val_loss: 0.7369\n",
      "Epoch 20/100\n",
      "515/515 [==============================] - 1s 1ms/step - loss: 0.2088 - val_loss: 0.7026\n",
      "Epoch 21/100\n",
      "515/515 [==============================] - 1s 1ms/step - loss: 0.2092 - val_loss: 0.6893\n",
      "Epoch 22/100\n",
      "515/515 [==============================] - 1s 1ms/step - loss: 0.2074 - val_loss: 0.6065\n",
      "Epoch 23/100\n",
      "515/515 [==============================] - 1s 2ms/step - loss: 0.2075 - val_loss: 0.5809\n",
      "Epoch 24/100\n",
      "515/515 [==============================] - 1s 2ms/step - loss: 0.2067 - val_loss: 0.7311\n",
      "Epoch 25/100\n",
      "515/515 [==============================] - 1s 1ms/step - loss: 0.2062 - val_loss: 0.6414\n",
      "Epoch 26/100\n",
      "515/515 [==============================] - 1s 1ms/step - loss: 0.2073 - val_loss: 0.7411\n",
      "Epoch 27/100\n",
      "515/515 [==============================] - 1s 1ms/step - loss: 0.2060 - val_loss: 0.6725\n",
      "Epoch 28/100\n",
      "515/515 [==============================] - 1s 1ms/step - loss: 0.2063 - val_loss: 0.6414\n",
      "Epoch 29/100\n",
      "515/515 [==============================] - 1s 1ms/step - loss: 0.2044 - val_loss: 0.7084\n",
      "Epoch 30/100\n",
      "515/515 [==============================] - 1s 1ms/step - loss: 0.2063 - val_loss: 0.6591\n",
      "Epoch 31/100\n",
      "515/515 [==============================] - 1s 1ms/step - loss: 0.2062 - val_loss: 0.7369\n",
      "Epoch 32/100\n",
      "515/515 [==============================] - 1s 1ms/step - loss: 0.2047 - val_loss: 0.7247\n",
      "Epoch 33/100\n",
      "515/515 [==============================] - 1s 1ms/step - loss: 0.2050 - val_loss: 0.6528\n",
      "Epoch 34/100\n",
      "515/515 [==============================] - 1s 1ms/step - loss: 0.2058 - val_loss: 0.7123\n",
      "Epoch 35/100\n",
      "515/515 [==============================] - 1s 2ms/step - loss: 0.2051 - val_loss: 0.7819\n",
      "Epoch 36/100\n",
      "515/515 [==============================] - 1s 2ms/step - loss: 0.2056 - val_loss: 0.7005\n",
      "Epoch 37/100\n",
      "515/515 [==============================] - 1s 2ms/step - loss: 0.2044 - val_loss: 0.7514\n",
      "Epoch 38/100\n",
      "515/515 [==============================] - 1s 2ms/step - loss: 0.2035 - val_loss: 0.6643\n",
      "Epoch 39/100\n",
      "515/515 [==============================] - 1s 2ms/step - loss: 0.2046 - val_loss: 0.6366\n",
      "Epoch 40/100\n",
      "515/515 [==============================] - 1s 2ms/step - loss: 0.2056 - val_loss: 0.6843\n",
      "Epoch 41/100\n",
      "515/515 [==============================] - 1s 2ms/step - loss: 0.2044 - val_loss: 0.7043\n",
      "Epoch 42/100\n",
      "515/515 [==============================] - 1s 2ms/step - loss: 0.2057 - val_loss: 0.6652\n",
      "Epoch 43/100\n",
      "515/515 [==============================] - 1s 1ms/step - loss: 0.2051 - val_loss: 0.6569\n",
      "Epoch 44/100\n",
      "515/515 [==============================] - 1s 1ms/step - loss: 0.2045 - val_loss: 0.6954\n",
      "Epoch 45/100\n",
      "515/515 [==============================] - 1s 1ms/step - loss: 0.2054 - val_loss: 0.6693\n",
      "Epoch 46/100\n",
      "515/515 [==============================] - 1s 1ms/step - loss: 0.2048 - val_loss: 0.6399\n",
      "Epoch 47/100\n",
      "515/515 [==============================] - 1s 1ms/step - loss: 0.2050 - val_loss: 0.6455\n",
      "Epoch 48/100\n",
      "515/515 [==============================] - 1s 1ms/step - loss: 0.2040 - val_loss: 0.6229\n",
      "Epoch 49/100\n",
      "515/515 [==============================] - 1s 1ms/step - loss: 0.2055 - val_loss: 0.7530\n",
      "Epoch 50/100\n",
      "515/515 [==============================] - 1s 2ms/step - loss: 0.2048 - val_loss: 0.6320\n",
      "Epoch 51/100\n",
      "515/515 [==============================] - 1s 1ms/step - loss: 0.2051 - val_loss: 0.7023\n",
      "Epoch 52/100\n",
      "515/515 [==============================] - 1s 2ms/step - loss: 0.2045 - val_loss: 0.7548\n",
      "Epoch 53/100\n",
      "515/515 [==============================] - 1s 1ms/step - loss: 0.2041 - val_loss: 0.7192\n",
      "Epoch 54/100\n",
      "515/515 [==============================] - 1s 2ms/step - loss: 0.2044 - val_loss: 0.6760\n",
      "Epoch 55/100\n",
      "515/515 [==============================] - 1s 1ms/step - loss: 0.2038 - val_loss: 0.7844\n",
      "Epoch 56/100\n",
      "515/515 [==============================] - 1s 2ms/step - loss: 0.2037 - val_loss: 0.6476\n",
      "Epoch 57/100\n",
      "515/515 [==============================] - 1s 1ms/step - loss: 0.2039 - val_loss: 0.7340\n",
      "Epoch 58/100\n",
      "515/515 [==============================] - 1s 1ms/step - loss: 0.2049 - val_loss: 0.6750\n",
      "Epoch 59/100\n",
      "515/515 [==============================] - 1s 1ms/step - loss: 0.2039 - val_loss: 0.7176\n",
      "Epoch 60/100\n",
      "515/515 [==============================] - 1s 1ms/step - loss: 0.2031 - val_loss: 0.7226\n",
      "Epoch 61/100\n",
      "515/515 [==============================] - 1s 1ms/step - loss: 0.2040 - val_loss: 0.6633\n",
      "Epoch 62/100\n",
      "515/515 [==============================] - 1s 2ms/step - loss: 0.2045 - val_loss: 0.5955\n",
      "Epoch 63/100\n",
      "515/515 [==============================] - 1s 1ms/step - loss: 0.2049 - val_loss: 0.6520\n",
      "Epoch 64/100\n",
      "515/515 [==============================] - 1s 2ms/step - loss: 0.2040 - val_loss: 0.7527\n",
      "Epoch 65/100\n",
      "515/515 [==============================] - 1s 1ms/step - loss: 0.2043 - val_loss: 0.6805\n",
      "Epoch 66/100\n",
      "515/515 [==============================] - 1s 1ms/step - loss: 0.2036 - val_loss: 0.6662\n",
      "Epoch 67/100\n",
      "515/515 [==============================] - 1s 1ms/step - loss: 0.2039 - val_loss: 0.6686\n",
      "Epoch 68/100\n",
      "515/515 [==============================] - 1s 1ms/step - loss: 0.2051 - val_loss: 0.6660\n",
      "Epoch 69/100\n",
      "515/515 [==============================] - 1s 2ms/step - loss: 0.2046 - val_loss: 0.6573\n",
      "Epoch 70/100\n",
      "515/515 [==============================] - 1s 1ms/step - loss: 0.2036 - val_loss: 0.7321\n",
      "Epoch 71/100\n",
      "515/515 [==============================] - 1s 1ms/step - loss: 0.2039 - val_loss: 0.7865\n",
      "Epoch 72/100\n",
      "515/515 [==============================] - 1s 2ms/step - loss: 0.2037 - val_loss: 0.7225\n",
      "Epoch 73/100\n",
      "515/515 [==============================] - 1s 1ms/step - loss: 0.2049 - val_loss: 0.7665\n",
      "Epoch 74/100\n",
      "515/515 [==============================] - 1s 1ms/step - loss: 0.2037 - val_loss: 0.6768\n",
      "Epoch 75/100\n",
      "515/515 [==============================] - 1s 1ms/step - loss: 0.2045 - val_loss: 0.7977\n",
      "Epoch 76/100\n",
      "515/515 [==============================] - 1s 1ms/step - loss: 0.2031 - val_loss: 0.7276\n",
      "Epoch 77/100\n",
      "515/515 [==============================] - 1s 1ms/step - loss: 0.2038 - val_loss: 0.6795\n",
      "Epoch 78/100\n",
      "515/515 [==============================] - 1s 1ms/step - loss: 0.2033 - val_loss: 0.6149\n"
     ]
    },
    {
     "name": "stdout",
     "output_type": "stream",
     "text": [
      "Epoch 79/100\n",
      "515/515 [==============================] - 1s 2ms/step - loss: 0.2038 - val_loss: 0.7040\n",
      "Epoch 80/100\n",
      "515/515 [==============================] - 1s 1ms/step - loss: 0.2051 - val_loss: 0.6423\n",
      "Epoch 81/100\n",
      "515/515 [==============================] - 1s 1ms/step - loss: 0.2036 - val_loss: 0.7197\n",
      "Epoch 82/100\n",
      "515/515 [==============================] - 1s 1ms/step - loss: 0.2046 - val_loss: 0.7167\n",
      "Epoch 83/100\n",
      "515/515 [==============================] - 1s 1ms/step - loss: 0.2028 - val_loss: 0.6860\n",
      "Epoch 84/100\n",
      "515/515 [==============================] - 1s 1ms/step - loss: 0.2045 - val_loss: 0.6537\n",
      "Epoch 85/100\n",
      "515/515 [==============================] - 1s 1ms/step - loss: 0.2049 - val_loss: 0.7090\n",
      "Epoch 86/100\n",
      "515/515 [==============================] - 1s 1ms/step - loss: 0.2035 - val_loss: 0.6583\n",
      "Epoch 87/100\n",
      "515/515 [==============================] - 1s 1ms/step - loss: 0.2035 - val_loss: 0.6695\n",
      "Epoch 88/100\n",
      "515/515 [==============================] - 1s 2ms/step - loss: 0.2028 - val_loss: 0.6683\n",
      "Epoch 89/100\n",
      "515/515 [==============================] - 1s 2ms/step - loss: 0.2035 - val_loss: 0.6466\n",
      "Epoch 90/100\n",
      "515/515 [==============================] - 1s 1ms/step - loss: 0.2038 - val_loss: 0.7993\n",
      "Epoch 91/100\n",
      "515/515 [==============================] - 1s 1ms/step - loss: 0.2037 - val_loss: 0.7031\n",
      "Epoch 92/100\n",
      "515/515 [==============================] - 1s 1ms/step - loss: 0.2031 - val_loss: 0.6778\n",
      "Epoch 93/100\n",
      "515/515 [==============================] - 1s 2ms/step - loss: 0.2042 - val_loss: 0.6849\n",
      "Epoch 94/100\n",
      "515/515 [==============================] - 1s 1ms/step - loss: 0.2034 - val_loss: 0.6609\n",
      "Epoch 95/100\n",
      "515/515 [==============================] - 1s 1ms/step - loss: 0.2043 - val_loss: 0.6335\n",
      "Epoch 96/100\n",
      "515/515 [==============================] - 1s 1ms/step - loss: 0.2032 - val_loss: 0.6374\n",
      "Epoch 97/100\n",
      "515/515 [==============================] - 1s 2ms/step - loss: 0.2037 - val_loss: 0.6683\n",
      "Epoch 98/100\n",
      "515/515 [==============================] - 1s 1ms/step - loss: 0.2038 - val_loss: 0.7060\n",
      "Epoch 99/100\n",
      "515/515 [==============================] - 1s 1ms/step - loss: 0.2043 - val_loss: 0.6544\n",
      "Epoch 100/100\n",
      "515/515 [==============================] - 1s 2ms/step - loss: 0.2045 - val_loss: 0.6511\n"
     ]
    }
   ],
   "source": [
    "# Create a separate model (encoder) in order to make encodings (first part of the autoencoder model)\n",
    "encoder = Model(input_data, encoded)\n",
    "\n",
    "# Create a placeholder for an encoded input\n",
    "encoded_input = Input(shape=(encoding_dim,))\n",
    "# Retrieve the last layer of the autoencoder model\n",
    "decoder_layer = autoencoder.layers[-1]\n",
    "# Create the decoder model\n",
    "decoder = Model(encoded_input, decoder_layer(encoded_input))\n",
    "\n",
    "# Encode and decode our test set (compare them visually just to get a first insight of the autoencoder's performance)\n",
    "encoded_X = encoder.predict(X)\n",
    "decoded_output = decoder.predict(encoded_X)\n",
    "\n",
    "#Encode data set from above using the encoder\n",
    "encoded_X = encoder.predict(X)\n",
    "\n",
    "model = Sequential()\n",
    "model.add(Dense(16, input_dim=encoded_X.shape[1],kernel_initializer='normal',activation=\"relu\"))\n",
    "model.add(Dropout(0.2))\n",
    "model.add(Dense(1))\n",
    "model.add(Activation(\"sigmoid\"))\n",
    "model.compile(loss=\"binary_crossentropy\", optimizer='adam')\n",
    "\n",
    "history = model.fit(encoded_X, y, validation_split=0.2, epochs=100, batch_size=64)"
   ]
  },
  {
   "cell_type": "code",
   "execution_count": 14,
   "metadata": {
    "colab": {
     "base_uri": "https://localhost:8080/",
     "height": 301
    },
    "colab_type": "code",
    "id": "hLPeNymV10nl",
    "outputId": "c464483e-c42e-4876-cac7-1bb73d110a66"
   },
   "outputs": [
    {
     "data": {
      "image/png": "[encoded data removed]",
      "text/plain": [
       "<Figure size 432x288 with 1 Axes>"
      ]
     },
     "metadata": {},
     "output_type": "display_data"
    }
   ],
   "source": [
    "plt.figure()\n",
    "plt.plot(history.history['loss'])\n",
    "plt.plot(history.history['val_loss'])\n",
    "plt.title('Encoded model loss')\n",
    "plt.ylabel('loss')\n",
    "plt.xlabel('epoch')\n",
    "plt.legend(['X'], loc='upper right')\n",
    "plt.show()"
   ]
  },
  {
   "cell_type": "code",
   "execution_count": 15,
   "metadata": {
    "colab": {
     "base_uri": "https://localhost:8080/",
     "height": 34
    },
    "colab_type": "code",
    "id": "6sIX-DoJ17C4",
    "outputId": "35e3757c-37ae-4a89-d699-5ca46927dc45"
   },
   "outputs": [
    {
     "name": "stdout",
     "output_type": "stream",
     "text": [
      "Overall accuracy of Neural Network model: 0.8899193939982519\n"
     ]
    }
   ],
   "source": [
    "#Predict on set\n",
    "predictions_prob = model.predict(encoded_X)\n",
    "predictions_prob = predictions_prob[:,0]\n",
    "\n",
    "predictions = np.where(predictions_prob > 0.5, 1, 0) \n",
    "#Turn probability to 0-1 binary output\n",
    "\n",
    "#Print accuracy\n",
    "acc = metrics.accuracy_score(y, predictions)\n",
    "print('Overall accuracy of Neural Network model:', acc)"
   ]
  },
  {
   "cell_type": "code",
   "execution_count": 16,
   "metadata": {
    "colab": {
     "base_uri": "https://localhost:8080/",
     "height": 301
    },
    "colab_type": "code",
    "id": "B4pw4kwU1-au",
    "outputId": "9deb90e3-9b41-441f-cdad-6a488fdb2be1"
   },
   "outputs": [
    {
     "data": {
      "image/png": "[encoded data removed]",
      "text/plain": [
       "<Figure size 432x288 with 1 Axes>"
      ]
     },
     "metadata": {},
     "output_type": "display_data"
    }
   ],
   "source": [
    "#Print Area Under Curve\n",
    "false_positive_rate, recall, thresholds = metrics.roc_curve(y, predictions_prob)\n",
    "roc_auc = auc(false_positive_rate, recall)\n",
    "plt.figure()\n",
    "plt.title('Receiver Operating Characteristic (ROC)')\n",
    "plt.plot(false_positive_rate, recall, 'b', label = 'AUC = %0.3f' %roc_auc)\n",
    "plt.legend(loc='lower right')\n",
    "plt.plot([0,1], [0,1], 'r--')\n",
    "plt.xlim([0.0,1.0])\n",
    "plt.ylim([0.0,1.0])\n",
    "plt.ylabel('Recall')\n",
    "plt.xlabel('Fall-out (1-Specificity)')\n",
    "plt.show()"
   ]
  },
  {
   "cell_type": "code",
   "execution_count": 17,
   "metadata": {
    "colab": {
     "base_uri": "https://localhost:8080/",
     "height": 410
    },
    "colab_type": "code",
    "id": "nnVzPo-j1_6Y",
    "outputId": "3977175e-21b4-4bca-ff50-77a820cfbfeb"
   },
   "outputs": [
    {
     "data": {
      "image/png": "[encoded data removed]",
      "text/plain": [
       "<Figure size 576x432 with 2 Axes>"
      ]
     },
     "metadata": {},
     "output_type": "display_data"
    }
   ],
   "source": [
    "#Print Confusion Matrix\n",
    "cm = metrics.confusion_matrix(y, predictions)\n",
    "labels = ['No Default', 'Default']\n",
    "plt.figure(figsize=(8,6))\n",
    "sns.heatmap(cm,xticklabels=labels, yticklabels=labels, annot=True, fmt='d', cmap=colour_palette, vmin = 0.2);\n",
    "plt.title('Confusion Matrix')\n",
    "plt.ylabel('True Class')\n",
    "plt.xlabel('Predicted Class')\n",
    "plt.show()"
   ]
  },
  {
   "cell_type": "code",
   "execution_count": 18,
   "metadata": {
    "colab": {},
    "colab_type": "code",
    "id": "USRV7KuM5Qvo"
   },
   "outputs": [],
   "source": [
    "decoded_output = pd.DataFrame(decoded_output)"
   ]
  },
  {
   "cell_type": "code",
   "execution_count": 19,
   "metadata": {
    "colab": {
     "base_uri": "https://localhost:8080/",
     "height": 252
    },
    "colab_type": "code",
    "id": "NqJzab8B5FXt",
    "outputId": "a7398dd3-4ed1-45bf-949f-76b1bfb598d4"
   },
   "outputs": [
    {
     "name": "stdout",
     "output_type": "stream",
     "text": [
      "Model: \"functional_1\"\n",
      "_________________________________________________________________\n",
      "Layer (type)                 Output Shape              Param #   \n",
      "=================================================================\n",
      "input_1 (InputLayer)         [(None, 20)]              0         \n",
      "_________________________________________________________________\n",
      "dense (Dense)                (None, 15)                315       \n",
      "_________________________________________________________________\n",
      "dense_1 (Dense)              (None, 20)                320       \n",
      "=================================================================\n",
      "Total params: 635\n",
      "Trainable params: 635\n",
      "Non-trainable params: 0\n",
      "_________________________________________________________________\n"
     ]
    }
   ],
   "source": [
    "autoencoder.summary()"
   ]
  },
  {
   "cell_type": "markdown",
   "metadata": {
    "colab_type": "text",
    "id": "y3dNLHDQwgpT"
   },
   "source": [
    "#### PCA\n",
    "Principal Component Analysis (PCA) is a linear dimensionality reduction technique that can be utilized for extracting information from a high-dimensional space by projecting it into a lower-dimensional sub-space. It tries to preserve the essential parts that have more variation of the data and remove the non-essential parts with fewer variation."
   ]
  },
  {
   "cell_type": "code",
   "execution_count": 20,
   "metadata": {
    "colab": {},
    "colab_type": "code",
    "id": "3fgSaVw3wgpU"
   },
   "outputs": [],
   "source": [
    "pca = PCA()\n",
    "X_pca = pca.fit_transform(X)\n",
    "X_pca = pd.DataFrame(X_pca)"
   ]
  },
  {
   "cell_type": "markdown",
   "metadata": {
    "colab_type": "text",
    "id": "U1_0hIxmuw3a"
   },
   "source": [
    "### Choosing Dimensionality Reductions Techniques"
   ]
  },
  {
   "cell_type": "code",
   "execution_count": 21,
   "metadata": {
    "colab": {
     "base_uri": "https://localhost:8080/",
     "height": 381
    },
    "colab_type": "code",
    "id": "bKvkaiW2wNOl",
    "outputId": "e2a868ea-1642-48df-b0bd-7ddfe379047c"
   },
   "outputs": [
    {
     "data": {
      "image/png": "[encoded data removed]",
      "text/plain": [
       "<Figure size 720x432 with 2 Axes>"
      ]
     },
     "metadata": {},
     "output_type": "display_data"
    }
   ],
   "source": [
    "figure = plt.figure(figsize=(10,6))\n",
    "corrMatrix = X_tsne.corr()\n",
    "sns.heatmap(corrMatrix, annot=False,cmap=colour_palette)\n",
    "plt.show()"
   ]
  },
  {
   "cell_type": "code",
   "execution_count": 22,
   "metadata": {
    "colab": {
     "base_uri": "https://localhost:8080/",
     "height": 381
    },
    "colab_type": "code",
    "id": "YJe4J0KY4hcv",
    "outputId": "bfe0f7c1-8c61-4ca1-83d3-3711482089cb"
   },
   "outputs": [
    {
     "data": {
      "image/png": "[encoded data removed]",
      "text/plain": [
       "<Figure size 720x432 with 2 Axes>"
      ]
     },
     "metadata": {},
     "output_type": "display_data"
    }
   ],
   "source": [
    "figure = plt.figure(figsize=(10,6))\n",
    "corrMatrix = decoded_output.corr()\n",
    "sns.heatmap(corrMatrix, annot=False,cmap=colour_palette)\n",
    "plt.show()"
   ]
  },
  {
   "cell_type": "code",
   "execution_count": 23,
   "metadata": {
    "colab": {
     "base_uri": "https://localhost:8080/",
     "height": 381
    },
    "colab_type": "code",
    "id": "5-2Wt1DvvXeT",
    "outputId": "6c525018-b552-4a7e-a638-30a1b8739b01"
   },
   "outputs": [
    {
     "data": {
      "image/png": "[encoded data removed]",
      "text/plain": [
       "<Figure size 720x432 with 2 Axes>"
      ]
     },
     "metadata": {},
     "output_type": "display_data"
    }
   ],
   "source": [
    "figure = plt.figure(figsize=(10,6))\n",
    "corrMatrix = X_pca.corr()\n",
    "sns.heatmap(corrMatrix, annot=False,cmap=colour_palette)\n",
    "plt.show()"
   ]
  },
  {
   "cell_type": "markdown",
   "metadata": {
    "colab_type": "text",
    "id": "F8_FWscrTt9i"
   },
   "source": [
    "The dimensionality reduction technique chosen is Autoencoders. Autoencoder output is able to compress the information better into low dimensional latent space leveraging its capability to model complex nonlinear functions. The resulting dataset from autoencoders give a higher accuracy than the other techniques.\n",
    "\n",
    "With t-distributed stochastic neighbor embedding, the dimensions a fewer for a dataset that originally had 21 features. This is seen with its reduction in accuracy for the machine learning models used. It has the lowest accuracy of the three techniques.\n",
    "\n",
    "With principal component analysis, the accuracy of the model is lower than that with the autoencoder when applying the resulting dataset from the principal component analysis."
   ]
  },
  {
   "cell_type": "markdown",
   "metadata": {
    "colab_type": "text",
    "id": "KeLgU_sVwgpW"
   },
   "source": [
    "## Train, Test Split\n",
    "\n",
    "90% for training and 10% for testing"
   ]
  },
  {
   "cell_type": "code",
   "execution_count": 24,
   "metadata": {
    "colab": {},
    "colab_type": "code",
    "id": "KWEWIAP5wgpW"
   },
   "outputs": [],
   "source": [
    "X_train, X_test, y_train, y_test = train_test_split(decoded_output, y, test_size=0.1, random_state=1)"
   ]
  },
  {
   "cell_type": "markdown",
   "metadata": {
    "colab_type": "text",
    "id": "o3RB67AJwgpY"
   },
   "source": [
    "## Selecting Machine Learning Models\n",
    "\n",
    "Cross validation to select the best three machine learning models.Cross validation techniques used are Stratified K-fold and K-fold."
   ]
  },
  {
   "cell_type": "markdown",
   "metadata": {
    "colab_type": "text",
    "id": "jB_LsMPoixS3"
   },
   "source": [
    "#### Helper function"
   ]
  },
  {
   "cell_type": "code",
   "execution_count": 25,
   "metadata": {
    "colab": {},
    "colab_type": "code",
    "id": "lK9X1sLktpG8"
   },
   "outputs": [],
   "source": [
    "class helper:\n",
    "    def __init__(self):\n",
    "        print (\"Helper object created\")\n",
    "    def confusion(self, y_pred):\n",
    "        cnf_matrix = metrics.confusion_matrix(y_test, y_pred)\n",
    "        class_names=[0,1] # name  of classes\n",
    "        fig, ax = plt.subplots()\n",
    "        tick_marks = np.arange(len(class_names))\n",
    "        plt.xticks(tick_marks, class_names)\n",
    "        plt.yticks(tick_marks, class_names)\n",
    "\n",
    "        # create heatmap\n",
    "        sns.heatmap(pd.DataFrame(cnf_matrix), annot=True, cmap=colour_palette ,fmt='g')\n",
    "        ax.xaxis.set_label_position(\"top\")\n",
    "        plt.tight_layout()\n",
    "        plt.title('Confusion matrix', y=1.1)\n",
    "        plt.ylabel('Actual label')\n",
    "        plt.xlabel('Predicted label')\n",
    "\n",
    "    def roc_plot(self,model):\n",
    "        y_pred_proba = model.predict_proba(X_test)[::,1]\n",
    "        fpr, tpr, _ = metrics.roc_curve(y_test,  y_pred_proba)\n",
    "        auc = metrics.roc_auc_score(y_test, y_pred_proba)\n",
    "        plt.plot(fpr,tpr,label=\"data 1, auc=\"+str(auc))\n",
    "        print(\"auc=\"+str(auc))\n",
    "        plt.legend(loc=4)\n",
    "        plt.show()\n",
    "\n",
    "    def s_kfold(self,model):\n",
    "        skfold = StratifiedKFold(n_splits=5, shuffle=True, random_state=1)\n",
    "\n",
    "        scores = cross_val_score(model, X_train, y_train, cv=skfold,scoring='accuracy')\n",
    "        print('\\nCross-Validation Accuracy Scores', scores)\n",
    "\n",
    "        scores = pd.Series(scores)\n",
    "        print('\\nThe minimum Cross-Validation Accuracy is  %.4f ' % scores.min())\n",
    "        print('\\nThe mean Cross-Validation Accuracy is  %.4f ' % scores.mean())\n",
    "        print('\\nThe maximum Cross-Validation Accuracy is  %.4f ' % scores.max())\n",
    "        return scores\n",
    "\n",
    "    def kfold(self,model):\n",
    "        kfold = KFold(n_splits=5, shuffle=True, random_state=1)\n",
    "\n",
    "        scores = cross_val_score(model, X_train, y_train, cv=kfold,scoring='accuracy')\n",
    "        print('\\nCross-Validation Accuracy Scores', scores)\n",
    "\n",
    "        scores = pd.Series(scores)\n",
    "        print('\\nThe minimum Cross-Validation Accuracy is  %.4f ' % scores.min())\n",
    "        print('\\nThe mean Cross-Validation Accuracy is  %.4f ' % scores.mean())\n",
    "        print('\\nThe maximum Cross-Validation Accuracy is  %.4f ' % scores.max())\n",
    "\n",
    "    def calc_metrics(self,y_pred):\n",
    "        print(\"\\nF1 Score: %.4f \" % metrics.f1_score(y_test, y_pred))\n",
    "        print(\"\\nAccuracy: %.4f \" % metrics.accuracy_score(y_test, y_pred))\n",
    "        print(\"\\nPrecision: %.4f \" % metrics.precision_score(y_test, y_pred))\n",
    "        print(\"\\nRecall: %.4f \" % metrics.recall_score(y_test, y_pred))"
   ]
  },
  {
   "cell_type": "code",
   "execution_count": 26,
   "metadata": {
    "colab": {
     "base_uri": "https://localhost:8080/",
     "height": 34
    },
    "colab_type": "code",
    "id": "7NjI10mw04p4",
    "outputId": "e4faa24e-0be1-43b6-a66e-fa64e354be13"
   },
   "outputs": [
    {
     "name": "stdout",
     "output_type": "stream",
     "text": [
      "Helper object created\n"
     ]
    }
   ],
   "source": [
    "helper = helper()"
   ]
  },
  {
   "cell_type": "markdown",
   "metadata": {
    "colab_type": "text",
    "id": "MdkghMInwgpY"
   },
   "source": [
    "### Logistic Regression Model\n",
    "\n",
    "Logistic regression is a statistical method for predicting binary classes. The outcome or target variable is dichotomous in nature. Dichotomous means there are only two possible classes."
   ]
  },
  {
   "cell_type": "code",
   "execution_count": 27,
   "metadata": {
    "colab": {},
    "colab_type": "code",
    "id": "tPTbhWhVwgpZ"
   },
   "outputs": [],
   "source": [
    "# instantiate the model (using the default parameters)\n",
    "logistic_regressor = LogisticRegression()\n",
    "\n",
    "# fit the model with data\n",
    "logistic_regressor = logistic_regressor.fit(X_train,y_train)\n",
    "\n",
    "# predict\n",
    "y_pred = logistic_regressor.predict(X_test)"
   ]
  },
  {
   "cell_type": "code",
   "execution_count": 28,
   "metadata": {
    "colab": {
     "base_uri": "https://localhost:8080/",
     "height": 323
    },
    "colab_type": "code",
    "id": "gqgKr24iYGwF",
    "outputId": "f3826bb1-994e-4bcd-b341-4a0b99deb3d6"
   },
   "outputs": [
    {
     "data": {
      "image/png": "[encoded data removed]",
      "text/plain": [
       "<Figure size 432x288 with 2 Axes>"
      ]
     },
     "metadata": {},
     "output_type": "display_data"
    }
   ],
   "source": [
    "helper.confusion(y_pred)"
   ]
  },
  {
   "cell_type": "markdown",
   "metadata": {
    "colab_type": "text",
    "id": "7E1__l2nwgpb"
   },
   "source": [
    "#### Cross validation"
   ]
  },
  {
   "cell_type": "markdown",
   "metadata": {
    "colab_type": "text",
    "id": "1IsEGoMgwgpb"
   },
   "source": [
    "##### Stratified K-fold"
   ]
  },
  {
   "cell_type": "code",
   "execution_count": 29,
   "metadata": {
    "colab": {
     "base_uri": "https://localhost:8080/",
     "height": 151
    },
    "colab_type": "code",
    "id": "vlZYq93Awgpc",
    "outputId": "8fd4d96f-6d5b-42a0-9223-bae78d1f29c9"
   },
   "outputs": [
    {
     "name": "stdout",
     "output_type": "stream",
     "text": [
      "\n",
      "Cross-Validation Accuracy Scores [0.89627731 0.89425411 0.89182627 0.89304019 0.89248617]\n",
      "\n",
      "The minimum Cross-Validation Accuracy is  0.8918 \n",
      "\n",
      "The mean Cross-Validation Accuracy is  0.8936 \n",
      "\n",
      "The maximum Cross-Validation Accuracy is  0.8963 \n"
     ]
    }
   ],
   "source": [
    "log = helper.s_kfold(logistic_regressor)"
   ]
  },
  {
   "cell_type": "markdown",
   "metadata": {
    "colab_type": "text",
    "id": "HwQUMXGAwgpe"
   },
   "source": [
    "##### K-fold"
   ]
  },
  {
   "cell_type": "code",
   "execution_count": 30,
   "metadata": {
    "colab": {
     "base_uri": "https://localhost:8080/",
     "height": 151
    },
    "colab_type": "code",
    "id": "GecywSIvwgpe",
    "outputId": "02b020f3-7ac8-453f-ad80-8fc07e424fa1"
   },
   "outputs": [
    {
     "name": "stdout",
     "output_type": "stream",
     "text": [
      "\n",
      "Cross-Validation Accuracy Scores [0.89937955 0.88791476 0.89398435 0.89209603 0.89464454]\n",
      "\n",
      "The minimum Cross-Validation Accuracy is  0.8879 \n",
      "\n",
      "The mean Cross-Validation Accuracy is  0.8936 \n",
      "\n",
      "The maximum Cross-Validation Accuracy is  0.8994 \n"
     ]
    }
   ],
   "source": [
    "helper.kfold(logistic_regressor)"
   ]
  },
  {
   "cell_type": "markdown",
   "metadata": {
    "colab_type": "text",
    "id": "D9tidR6rwgpg"
   },
   "source": [
    "#### Evaluation Metrics"
   ]
  },
  {
   "cell_type": "markdown",
   "metadata": {
    "colab_type": "text",
    "id": "iPvcmS3zwgpg"
   },
   "source": [
    "##### Receiver operating characteristic (ROC)"
   ]
  },
  {
   "cell_type": "code",
   "execution_count": 31,
   "metadata": {
    "colab": {
     "base_uri": "https://localhost:8080/",
     "height": 285
    },
    "colab_type": "code",
    "id": "RYOrNra6wgpg",
    "outputId": "f9fd7f4e-21e4-4858-f3c7-655a9a6b9845"
   },
   "outputs": [
    {
     "name": "stdout",
     "output_type": "stream",
     "text": [
      "auc=0.7666040206677004\n"
     ]
    },
    {
     "data": {
      "image/png": "[encoded data removed]",
      "text/plain": [
       "<Figure size 432x288 with 1 Axes>"
      ]
     },
     "metadata": {},
     "output_type": "display_data"
    }
   ],
   "source": [
    "helper.roc_plot(logistic_regressor)"
   ]
  },
  {
   "cell_type": "markdown",
   "metadata": {
    "colab_type": "text",
    "id": "x4t3zl8wYPT9"
   },
   "source": [
    "AUC score for the case is 0.7766. AUC score 1 represents perfect classifier, and 0.5 represents a worthless classifier."
   ]
  },
  {
   "cell_type": "markdown",
   "metadata": {
    "colab_type": "text",
    "id": "ceNHN7wXwgpk"
   },
   "source": [
    "##### F1 Score, Accuracy, Precision, Recall\n",
    "\n",
    "* F1 score is the amount of data tested for the predictions.\n",
    "\n",
    "* Accuracy is the subset accuracy. The set of labels predicted for a sample must exactly match the corresponding set of labels in y_true.\n",
    "\n",
    "* Precision score means the the level up-to which the prediction made by the model is precise. \n",
    "\n",
    "* Recall is the amount up-to which the model can predict the outcome. "
   ]
  },
  {
   "cell_type": "code",
   "execution_count": 32,
   "metadata": {
    "colab": {
     "base_uri": "https://localhost:8080/",
     "height": 151
    },
    "colab_type": "code",
    "id": "1I5Tn8Arwgpl",
    "outputId": "81a6ba5c-c30b-4106-dc75-93e6e93a3e98"
   },
   "outputs": [
    {
     "name": "stdout",
     "output_type": "stream",
     "text": [
      "\n",
      "F1 Score: 0.2149 \n",
      "\n",
      "Accuracy: 0.8847 \n",
      "\n",
      "Precision: 0.6500 \n",
      "\n",
      "Recall: 0.1287 \n"
     ]
    }
   ],
   "source": [
    "helper.calc_metrics(y_pred)"
   ]
  },
  {
   "cell_type": "markdown",
   "metadata": {
    "colab_type": "text",
    "id": "qM-sPp4ewgpm"
   },
   "source": [
    "### XGBoost\n",
    "\n",
    "Boosting is a sequential technique which works on the principle of an ensemble. It combines a set of weak learners and delivers improved prediction accuracy. At any instant t, the model outcomes are weighed based on the outcomes of previous instant t-1. The outcomes predicted correctly are given a lower weight and the ones miss-classified are weighted higher. "
   ]
  },
  {
   "cell_type": "code",
   "execution_count": 33,
   "metadata": {
    "colab": {},
    "colab_type": "code",
    "id": "ringU9BAwgpp"
   },
   "outputs": [],
   "source": [
    "# instantiate the model (using the default parameters)\n",
    "xgboost_classifier = XGBClassifier()\n",
    "\n",
    "# fit the model with data\n",
    "xgboost_classifier = xgboost_classifier.fit(X_train,y_train)\n",
    "\n",
    "# predict\n",
    "y_pred = xgboost_classifier.predict(X_test)"
   ]
  },
  {
   "cell_type": "code",
   "execution_count": 34,
   "metadata": {
    "colab": {
     "base_uri": "https://localhost:8080/",
     "height": 323
    },
    "colab_type": "code",
    "id": "Q5w_K9v-t8IM",
    "outputId": "0805abe0-c1cd-42f9-e5f2-b5f767b264e3"
   },
   "outputs": [
    {
     "data": {
      "image/png": "[encoded data removed]",
      "text/plain": [
       "<Figure size 432x288 with 2 Axes>"
      ]
     },
     "metadata": {},
     "output_type": "display_data"
    }
   ],
   "source": [
    "helper.confusion(y_pred)"
   ]
  },
  {
   "cell_type": "markdown",
   "metadata": {
    "colab_type": "text",
    "id": "JI2Kxps8wgpr"
   },
   "source": [
    "#### Cross validation"
   ]
  },
  {
   "cell_type": "markdown",
   "metadata": {
    "colab_type": "text",
    "id": "_jhogTh4wgpr"
   },
   "source": [
    "##### Stratified K-fold"
   ]
  },
  {
   "cell_type": "code",
   "execution_count": 35,
   "metadata": {
    "colab": {
     "base_uri": "https://localhost:8080/",
     "height": 151
    },
    "colab_type": "code",
    "id": "q9kJbMKtwgps",
    "outputId": "4a07e10c-ba77-4c8a-e14d-c67a072efcca"
   },
   "outputs": [
    {
     "name": "stdout",
     "output_type": "stream",
     "text": [
      "\n",
      "Cross-Validation Accuracy Scores [0.89546803 0.89357971 0.89277043 0.89047748 0.89370026]\n",
      "\n",
      "The minimum Cross-Validation Accuracy is  0.8905 \n",
      "\n",
      "The mean Cross-Validation Accuracy is  0.8932 \n",
      "\n",
      "The maximum Cross-Validation Accuracy is  0.8955 \n"
     ]
    }
   ],
   "source": [
    "boost = helper.s_kfold(xgboost_classifier)"
   ]
  },
  {
   "cell_type": "markdown",
   "metadata": {
    "colab_type": "text",
    "id": "2GaOuRh_wgpt"
   },
   "source": [
    "##### K-fold"
   ]
  },
  {
   "cell_type": "code",
   "execution_count": 36,
   "metadata": {
    "colab": {
     "base_uri": "https://localhost:8080/",
     "height": 151
    },
    "colab_type": "code",
    "id": "W6a1Ln8gwgpu",
    "outputId": "7534d20a-ccaf-440a-9323-6b38ef9838ed"
   },
   "outputs": [
    {
     "name": "stdout",
     "output_type": "stream",
     "text": [
      "\n",
      "Cross-Validation Accuracy Scores [0.89735635 0.88710548 0.89560291 0.89209603 0.89464454]\n",
      "\n",
      "The minimum Cross-Validation Accuracy is  0.8871 \n",
      "\n",
      "The mean Cross-Validation Accuracy is  0.8934 \n",
      "\n",
      "The maximum Cross-Validation Accuracy is  0.8974 \n"
     ]
    }
   ],
   "source": [
    "helper.kfold(xgboost_classifier)"
   ]
  },
  {
   "cell_type": "markdown",
   "metadata": {
    "colab_type": "text",
    "id": "L-5mAWyowgpv"
   },
   "source": [
    "#### Evaluation Metrics"
   ]
  },
  {
   "cell_type": "markdown",
   "metadata": {
    "colab_type": "text",
    "id": "CWjQsKabwgpw"
   },
   "source": [
    "##### Receiver operating characteristic (ROC)"
   ]
  },
  {
   "cell_type": "code",
   "execution_count": 37,
   "metadata": {
    "colab": {
     "base_uri": "https://localhost:8080/",
     "height": 322
    },
    "colab_type": "code",
    "id": "lX0kJoUFwgpw",
    "outputId": "4d409654-35e1-493d-f6c4-36f9d4309b4e"
   },
   "outputs": [
    {
     "name": "stdout",
     "output_type": "stream",
     "text": [
      "auc=0.7767962324732751\n"
     ]
    },
    {
     "data": {
      "image/png": "[encoded data removed]",
      "text/plain": [
       "<Figure size 432x288 with 1 Axes>"
      ]
     },
     "metadata": {},
     "output_type": "display_data"
    }
   ],
   "source": [
    "helper.roc_plot(xgboost_classifier)"
   ]
  },
  {
   "cell_type": "markdown",
   "metadata": {
    "colab_type": "text",
    "id": "Yfuuq9G-YX3Q"
   },
   "source": [
    "AUC score for the case is 0.7812. AUC score 1 represents perfect classifier, and 0.5 represents a worthless classifier."
   ]
  },
  {
   "cell_type": "markdown",
   "metadata": {
    "colab_type": "text",
    "id": "xDuZHcP42Rlv"
   },
   "source": [
    "##### F1 Score, Accuracy, Precision, Recall\n",
    "\n",
    "* F1 score is the amount of data tested for the predictions.\n",
    "\n",
    "* Accuracy is the subset accuracy. The set of labels predicted for a sample must exactly match the corresponding set of labels in y_true.\n",
    "\n",
    "* Precision score means the the level up-to which the prediction made by the model is precise. \n",
    "\n",
    "* Recall is the amount up-to which the model can predict the outcome. "
   ]
  },
  {
   "cell_type": "code",
   "execution_count": 38,
   "metadata": {
    "colab": {
     "base_uri": "https://localhost:8080/",
     "height": 151
    },
    "colab_type": "code",
    "id": "3YAEafzh2Rlx",
    "outputId": "65d02885-bbad-4e14-b4b0-20c10eddd788"
   },
   "outputs": [
    {
     "name": "stdout",
     "output_type": "stream",
     "text": [
      "\n",
      "F1 Score: 0.2468 \n",
      "\n",
      "Accuracy: 0.8859 \n",
      "\n",
      "Precision: 0.6471 \n",
      "\n",
      "Recall: 0.1525 \n"
     ]
    }
   ],
   "source": [
    "helper.calc_metrics(y_pred)"
   ]
  },
  {
   "cell_type": "markdown",
   "metadata": {
    "colab_type": "text",
    "id": "VuiRH8PZwgp2"
   },
   "source": [
    "### Multilayer Perceptron\n",
    "\n",
    "A multilayer perceptron or MLP represents a vast artificial neural network, meaning simply that it features more than one perceptron. This gathering of perceptrons is established from an input layer meant to receive the signal, an output layer responsible for a decision or prediction in regards to the input, and an arbitrary number of hidden layers that represent the true computational power of the MLP."
   ]
  },
  {
   "cell_type": "code",
   "execution_count": 39,
   "metadata": {
    "colab": {},
    "colab_type": "code",
    "id": "gScWFRv0wgp2"
   },
   "outputs": [],
   "source": [
    "# create mutli-layer perceptron classifier\n",
    "perceptron_classifier = MLPClassifier()\n",
    "\n",
    "# train\n",
    "perceptron_classifier = perceptron_classifier.fit(X_train,y_train)\n",
    "\n",
    "# make predictions\n",
    "y_pred = perceptron_classifier.predict(X_test)"
   ]
  },
  {
   "cell_type": "code",
   "execution_count": 40,
   "metadata": {
    "colab": {
     "base_uri": "https://localhost:8080/",
     "height": 349
    },
    "colab_type": "code",
    "id": "reBgGhbdZtht",
    "outputId": "dd4c1ea6-7237-4858-e6b2-790170a4f2a0"
   },
   "outputs": [
    {
     "data": {
      "image/png": "[encoded data removed]",
      "text/plain": [
       "<Figure size 432x288 with 2 Axes>"
      ]
     },
     "metadata": {},
     "output_type": "display_data"
    }
   ],
   "source": [
    "helper.confusion(y_pred)"
   ]
  },
  {
   "cell_type": "markdown",
   "metadata": {
    "colab_type": "text",
    "id": "tMbZBmfXwgp4"
   },
   "source": [
    "#### Cross validation"
   ]
  },
  {
   "cell_type": "markdown",
   "metadata": {
    "colab_type": "text",
    "id": "3pfEKwbCwgp4"
   },
   "source": [
    "##### Stratified K-fold"
   ]
  },
  {
   "cell_type": "code",
   "execution_count": 41,
   "metadata": {
    "colab": {
     "base_uri": "https://localhost:8080/",
     "height": 151
    },
    "colab_type": "code",
    "id": "5inxV9CKwgp5",
    "outputId": "ce78d7ed-9410-4311-dfa0-8386f7394c06"
   },
   "outputs": [
    {
     "name": "stdout",
     "output_type": "stream",
     "text": [
      "\n",
      "Cross-Validation Accuracy Scores [0.89600755 0.89452387 0.89357971 0.89020772 0.89450965]\n",
      "\n",
      "The minimum Cross-Validation Accuracy is  0.8902 \n",
      "\n",
      "The mean Cross-Validation Accuracy is  0.8938 \n",
      "\n",
      "The maximum Cross-Validation Accuracy is  0.8960 \n"
     ]
    }
   ],
   "source": [
    "multi = helper.s_kfold(perceptron_classifier)"
   ]
  },
  {
   "cell_type": "markdown",
   "metadata": {
    "colab_type": "text",
    "id": "G-0DMtIJwgp7"
   },
   "source": [
    "##### K-fold"
   ]
  },
  {
   "cell_type": "code",
   "execution_count": 42,
   "metadata": {
    "colab": {
     "base_uri": "https://localhost:8080/",
     "height": 151
    },
    "colab_type": "code",
    "id": "_nk4fPrWwgp8",
    "outputId": "e76c995d-0db5-4821-d116-d61c289a79e9"
   },
   "outputs": [
    {
     "name": "stdout",
     "output_type": "stream",
     "text": [
      "\n",
      "Cross-Validation Accuracy Scores [0.89830051 0.88818452 0.89627731 0.89236579 0.89518414]\n",
      "\n",
      "The minimum Cross-Validation Accuracy is  0.8882 \n",
      "\n",
      "The mean Cross-Validation Accuracy is  0.8941 \n",
      "\n",
      "The maximum Cross-Validation Accuracy is  0.8983 \n"
     ]
    }
   ],
   "source": [
    "helper.kfold(perceptron_classifier)"
   ]
  },
  {
   "cell_type": "markdown",
   "metadata": {
    "colab_type": "text",
    "id": "N501SciDwgp-"
   },
   "source": [
    "#### Evaluation Metrics"
   ]
  },
  {
   "cell_type": "markdown",
   "metadata": {
    "colab_type": "text",
    "id": "uUpbMkGvwgp-"
   },
   "source": [
    "##### Receiver operating characteristic (ROC)"
   ]
  },
  {
   "cell_type": "code",
   "execution_count": 43,
   "metadata": {
    "colab": {
     "base_uri": "https://localhost:8080/",
     "height": 322
    },
    "colab_type": "code",
    "id": "MvARgUgwwgp-",
    "outputId": "723f028f-09d0-4659-c017-8988b6225660"
   },
   "outputs": [
    {
     "name": "stdout",
     "output_type": "stream",
     "text": [
      "auc=0.7754812144191728\n"
     ]
    },
    {
     "data": {
      "image/png": "[encoded data removed]",
      "text/plain": [
       "<Figure size 432x288 with 1 Axes>"
      ]
     },
     "metadata": {},
     "output_type": "display_data"
    }
   ],
   "source": [
    "helper.roc_plot(perceptron_classifier)"
   ]
  },
  {
   "cell_type": "markdown",
   "metadata": {
    "colab_type": "text",
    "id": "6NJ4xEoQYaNW"
   },
   "source": [
    "AUC score for the case is 0.7833. AUC score 1 represents perfect classifier, and 0.5 represents a worthless classifier."
   ]
  },
  {
   "cell_type": "markdown",
   "metadata": {
    "colab_type": "text",
    "id": "0iJhUgdC2WHg"
   },
   "source": [
    "##### F1 Score, Accuracy, Precision, Recall\n",
    "\n",
    "* F1 score is the amount of data tested for the predictions.\n",
    "\n",
    "* Accuracy is the subset accuracy. The set of labels predicted for a sample must exactly match the corresponding set of labels in y_true.\n",
    "\n",
    "* Precision score means the the level up-to which the prediction made by the model is precise. \n",
    "\n",
    "* Recall is the amount up-to which the model can predict the outcome. "
   ]
  },
  {
   "cell_type": "code",
   "execution_count": 44,
   "metadata": {
    "colab": {
     "base_uri": "https://localhost:8080/",
     "height": 151
    },
    "colab_type": "code",
    "id": "UmBQ0-DY2WHh",
    "outputId": "3ce5bed7-7681-48b3-ea98-9ae9382b573f"
   },
   "outputs": [
    {
     "name": "stdout",
     "output_type": "stream",
     "text": [
      "\n",
      "F1 Score: 0.2448 \n",
      "\n",
      "Accuracy: 0.8861 \n",
      "\n",
      "Precision: 0.6552 \n",
      "\n",
      "Recall: 0.1505 \n"
     ]
    }
   ],
   "source": [
    "helper.calc_metrics(y_pred)"
   ]
  },
  {
   "cell_type": "markdown",
   "metadata": {
    "colab_type": "text",
    "id": "mnxVhPG4wgqF"
   },
   "source": [
    "### Support Vector Machine\n",
    "\n",
    "SVM offers very high accuracy compared to other classifiers such as logistic regression, and decision trees. It is known for its kernel trick to handle nonlinear input spaces. It is used in a variety of applications such as face detection, intrusion detection, classification of emails, news articles and web pages, classification of genes, and handwriting recognition."
   ]
  },
  {
   "cell_type": "code",
   "execution_count": 45,
   "metadata": {
    "colab": {},
    "colab_type": "code",
    "id": "Z9pkXFzpwgqF"
   },
   "outputs": [],
   "source": [
    "#Create a svm Classifier\n",
    "support_vector_classifier = svm.SVC(kernel='linear', probability=True)\n",
    "\n",
    "#Train the model using the training sets\n",
    "support_vector_classifier = support_vector_classifier.fit(X_train, y_train)\n",
    "\n",
    "#Predict the response for test dataset\n",
    "y_pred = support_vector_classifier.predict(X_test)"
   ]
  },
  {
   "cell_type": "code",
   "execution_count": 46,
   "metadata": {
    "colab": {
     "base_uri": "https://localhost:8080/",
     "height": 349
    },
    "colab_type": "code",
    "id": "PpCX9aF3Zu6L",
    "outputId": "6bb76b9c-bfa5-4a39-ab9d-f91fdc4a07e1"
   },
   "outputs": [
    {
     "data": {
      "image/png": "[encoded data removed]",
      "text/plain": [
       "<Figure size 432x288 with 2 Axes>"
      ]
     },
     "metadata": {},
     "output_type": "display_data"
    }
   ],
   "source": [
    "helper.confusion(y_pred)"
   ]
  },
  {
   "cell_type": "markdown",
   "metadata": {
    "colab_type": "text",
    "id": "MQcrY3RywgqI"
   },
   "source": [
    "#### Cross validation"
   ]
  },
  {
   "cell_type": "markdown",
   "metadata": {
    "colab_type": "text",
    "id": "ustkRZ3LwgqI"
   },
   "source": [
    "##### Stratified K-fold"
   ]
  },
  {
   "cell_type": "code",
   "execution_count": 47,
   "metadata": {
    "colab": {
     "base_uri": "https://localhost:8080/",
     "height": 151
    },
    "colab_type": "code",
    "id": "FdqxGW74wgqJ",
    "outputId": "8de5b418-15e2-40ec-9158-b2f291bd45ca"
   },
   "outputs": [
    {
     "name": "stdout",
     "output_type": "stream",
     "text": [
      "\n",
      "Cross-Validation Accuracy Scores [0.88845428 0.88845428 0.88845428 0.8869706  0.88843923]\n",
      "\n",
      "The minimum Cross-Validation Accuracy is  0.8870 \n",
      "\n",
      "The mean Cross-Validation Accuracy is  0.8882 \n",
      "\n",
      "The maximum Cross-Validation Accuracy is  0.8885 \n"
     ]
    }
   ],
   "source": [
    "svm = helper.s_kfold(support_vector_classifier)"
   ]
  },
  {
   "cell_type": "markdown",
   "metadata": {
    "colab_type": "text",
    "id": "xpTQTE6PwgqL"
   },
   "source": [
    "##### K-fold"
   ]
  },
  {
   "cell_type": "code",
   "execution_count": 48,
   "metadata": {
    "colab": {
     "base_uri": "https://localhost:8080/",
     "height": 151
    },
    "colab_type": "code",
    "id": "NYdPIXLcwgqM",
    "outputId": "7e36e595-4a01-4599-a77a-71818a7ab48b"
   },
   "outputs": [
    {
     "name": "stdout",
     "output_type": "stream",
     "text": [
      "\n",
      "Cross-Validation Accuracy Scores [0.88926356 0.88454276 0.88804964 0.88319396 0.89275597]\n",
      "\n",
      "The minimum Cross-Validation Accuracy is  0.8832 \n",
      "\n",
      "The mean Cross-Validation Accuracy is  0.8876 \n",
      "\n",
      "The maximum Cross-Validation Accuracy is  0.8928 \n"
     ]
    }
   ],
   "source": [
    "helper.kfold(support_vector_classifier)"
   ]
  },
  {
   "cell_type": "markdown",
   "metadata": {
    "colab_type": "text",
    "id": "2tB3GcAGwgqP"
   },
   "source": [
    "#### Evaluation Metrics"
   ]
  },
  {
   "cell_type": "markdown",
   "metadata": {
    "colab_type": "text",
    "id": "vM7MkCsDwgqQ"
   },
   "source": [
    "##### Receiver operating characteristic (ROC)"
   ]
  },
  {
   "cell_type": "code",
   "execution_count": 49,
   "metadata": {
    "colab": {
     "base_uri": "https://localhost:8080/",
     "height": 322
    },
    "colab_type": "code",
    "id": "uYnfrhNXwgqQ",
    "outputId": "9ae1dbd0-381a-4837-e3ab-9c0e927f266a"
   },
   "outputs": [
    {
     "name": "stdout",
     "output_type": "stream",
     "text": [
      "auc=0.5584243344090911\n"
     ]
    },
    {
     "data": {
      "image/png": "[encoded data removed]",
      "text/plain": [
       "<Figure size 432x288 with 1 Axes>"
      ]
     },
     "metadata": {},
     "output_type": "display_data"
    }
   ],
   "source": [
    "helper.roc_plot(support_vector_classifier)"
   ]
  },
  {
   "cell_type": "markdown",
   "metadata": {
    "colab_type": "text",
    "id": "_xrv_M26YeXo"
   },
   "source": [
    "AUC score for the case is 0.5362. AUC score 1 represents perfect classifier, and 0.5 represents a worthless classifier."
   ]
  },
  {
   "cell_type": "markdown",
   "metadata": {
    "colab_type": "text",
    "id": "oHegEXgq2gZh"
   },
   "source": [
    "##### F1 Score, Accuracy, Precision, Recall\n",
    "\n",
    "* F1 score is the amount of data tested for the predictions.\n",
    "\n",
    "* Accuracy is the subset accuracy. The set of labels predicted for a sample must exactly match the corresponding set of labels in y_true.\n",
    "\n",
    "* Precision score means the the level up-to which the prediction made by the model is precise. \n",
    "\n",
    "* Recall is the amount up-to which the model can predict the outcome. "
   ]
  },
  {
   "cell_type": "code",
   "execution_count": 50,
   "metadata": {
    "colab": {
     "base_uri": "https://localhost:8080/",
     "height": 151
    },
    "colab_type": "code",
    "id": "71cB-hMC2gZk",
    "outputId": "7e515310-70cf-4b65-bdab-becd19096a13"
   },
   "outputs": [
    {
     "name": "stdout",
     "output_type": "stream",
     "text": [
      "\n",
      "F1 Score: 0.0000 \n",
      "\n",
      "Accuracy: 0.8774 \n",
      "\n",
      "Precision: 0.0000 \n",
      "\n",
      "Recall: 0.0000 \n"
     ]
    },
    {
     "name": "stderr",
     "output_type": "stream",
     "text": [
      "C:\\Users\\smwik\\anaconda3\\lib\\site-packages\\sklearn\\metrics\\_classification.py:1221: UndefinedMetricWarning: Precision is ill-defined and being set to 0.0 due to no predicted samples. Use `zero_division` parameter to control this behavior.\n",
      "  _warn_prf(average, modifier, msg_start, len(result))\n"
     ]
    }
   ],
   "source": [
    "helper.calc_metrics(y_pred)"
   ]
  },
  {
   "cell_type": "markdown",
   "metadata": {
    "colab_type": "text",
    "id": "ZNtswzHPwgqX"
   },
   "source": [
    "### Decision Trees\n",
    "\n",
    "A decision tree is a flowchart-like tree structure where an internal node represents feature(or attribute), the branch represents a decision rule, and each leaf node represents the outcome. The topmost node in a decision tree is known as the root node. \n",
    "\n",
    "It learns to partition on the basis of the attribute value. It partitions the tree in recursively manner call recursive partitioning. This flowchart-like structure helps you in decision making. \n",
    "\n",
    "It's visualization like a flowchart diagram which easily mimics the human level thinking. That is why decision trees are easy to understand and interpret."
   ]
  },
  {
   "cell_type": "code",
   "execution_count": 51,
   "metadata": {
    "colab": {},
    "colab_type": "code",
    "id": "JhhH2xl9wgqY"
   },
   "outputs": [],
   "source": [
    "# Create Decision Tree classifer object\n",
    "decision_tree_classifer = DecisionTreeClassifier(max_depth=5)\n",
    "\n",
    "# Train Decision Tree Classifer\n",
    "decision_tree_classifer = decision_tree_classifer.fit(X_train,y_train)\n",
    "\n",
    "#Predict the response for test dataset\n",
    "y_pred = decision_tree_classifer.predict(X_test)"
   ]
  },
  {
   "cell_type": "code",
   "execution_count": 52,
   "metadata": {
    "colab": {
     "base_uri": "https://localhost:8080/",
     "height": 349
    },
    "colab_type": "code",
    "id": "Wc0QunbZua3s",
    "outputId": "94264067-6ed3-458a-dbaf-b9634f9e4d31"
   },
   "outputs": [
    {
     "data": {
      "image/png": "[encoded data removed]",
      "text/plain": [
       "<Figure size 432x288 with 2 Axes>"
      ]
     },
     "metadata": {},
     "output_type": "display_data"
    }
   ],
   "source": [
    "helper.confusion(y_pred)"
   ]
  },
  {
   "cell_type": "markdown",
   "metadata": {
    "colab_type": "text",
    "id": "tsxNgrkmwgqZ"
   },
   "source": [
    "#### Cross validation"
   ]
  },
  {
   "cell_type": "markdown",
   "metadata": {
    "colab_type": "text",
    "id": "SUj8fqSVwgqZ"
   },
   "source": [
    "##### Stratified K-fold"
   ]
  },
  {
   "cell_type": "code",
   "execution_count": 53,
   "metadata": {
    "colab": {
     "base_uri": "https://localhost:8080/",
     "height": 151
    },
    "colab_type": "code",
    "id": "-h7rCMoswgqb",
    "outputId": "b8f9510a-2c4d-4d22-a7d9-69e3cfecfe0b"
   },
   "outputs": [
    {
     "name": "stdout",
     "output_type": "stream",
     "text": [
      "\n",
      "Cross-Validation Accuracy Scores [0.89560291 0.89155651 0.89290531 0.88993796 0.89491434]\n",
      "\n",
      "The minimum Cross-Validation Accuracy is  0.8899 \n",
      "\n",
      "The mean Cross-Validation Accuracy is  0.8930 \n",
      "\n",
      "The maximum Cross-Validation Accuracy is  0.8956 \n"
     ]
    }
   ],
   "source": [
    "trees = helper.s_kfold(decision_tree_classifer)"
   ]
  },
  {
   "cell_type": "markdown",
   "metadata": {
    "colab_type": "text",
    "id": "tOzsWXFPwgqd"
   },
   "source": [
    "##### K-fold"
   ]
  },
  {
   "cell_type": "code",
   "execution_count": 54,
   "metadata": {
    "colab": {
     "base_uri": "https://localhost:8080/",
     "height": 151
    },
    "colab_type": "code",
    "id": "wgCoIjONwgqd",
    "outputId": "a3736d2b-9dcc-42c9-cf16-859812d0b42b"
   },
   "outputs": [
    {
     "name": "stdout",
     "output_type": "stream",
     "text": [
      "\n",
      "Cross-Validation Accuracy Scores [0.89600755 0.88737524 0.89546803 0.89115187 0.89585863]\n",
      "\n",
      "The minimum Cross-Validation Accuracy is  0.8874 \n",
      "\n",
      "The mean Cross-Validation Accuracy is  0.8932 \n",
      "\n",
      "The maximum Cross-Validation Accuracy is  0.8960 \n"
     ]
    }
   ],
   "source": [
    "helper.kfold(decision_tree_classifer)"
   ]
  },
  {
   "cell_type": "markdown",
   "metadata": {
    "colab_type": "text",
    "id": "yDTnK2TEwgqf"
   },
   "source": [
    "#### Evaluation Metrics"
   ]
  },
  {
   "cell_type": "markdown",
   "metadata": {
    "colab_type": "text",
    "id": "DtMp_MRHwgqf"
   },
   "source": [
    "##### Receiver operating characteristic (ROC)"
   ]
  },
  {
   "cell_type": "code",
   "execution_count": 55,
   "metadata": {
    "colab": {
     "base_uri": "https://localhost:8080/",
     "height": 322
    },
    "colab_type": "code",
    "id": "xzyiYnLdwgqf",
    "outputId": "ad278a2a-28ad-4eea-8b2a-8f4f22f1ed9f"
   },
   "outputs": [
    {
     "name": "stdout",
     "output_type": "stream",
     "text": [
      "auc=0.7731152777701678\n"
     ]
    },
    {
     "data": {
      "image/png": "[encoded data removed]",
      "text/plain": [
       "<Figure size 432x288 with 1 Axes>"
      ]
     },
     "metadata": {},
     "output_type": "display_data"
    }
   ],
   "source": [
    "helper.roc_plot(decision_tree_classifer)"
   ]
  },
  {
   "cell_type": "markdown",
   "metadata": {
    "colab_type": "text",
    "id": "wtWYhT1uYhL2"
   },
   "source": [
    "AUC score for the case is 0.7760. AUC score 1 represents perfect classifier, and 0.5 represents a worthless classifier."
   ]
  },
  {
   "cell_type": "markdown",
   "metadata": {
    "colab_type": "text",
    "id": "h-Odcco22kgN"
   },
   "source": [
    "##### F1 Score, Accuracy, Precision, Recall\n",
    "\n",
    "* F1 score is the amount of data tested for the predictions.\n",
    "\n",
    "* Accuracy is the subset accuracy. The set of labels predicted for a sample must exactly match the corresponding set of labels in y_true.\n",
    "\n",
    "* Precision score means the the level up-to which the prediction made by the model is precise. \n",
    "\n",
    "* Recall is the amount up-to which the model can predict the outcome. "
   ]
  },
  {
   "cell_type": "code",
   "execution_count": 56,
   "metadata": {
    "colab": {
     "base_uri": "https://localhost:8080/",
     "height": 151
    },
    "colab_type": "code",
    "id": "QFsbEEWD2kgP",
    "outputId": "cea27430-3b34-44f9-cbce-18dc0d4a943d"
   },
   "outputs": [
    {
     "name": "stdout",
     "output_type": "stream",
     "text": [
      "\n",
      "F1 Score: 0.2219 \n",
      "\n",
      "Accuracy: 0.8842 \n",
      "\n",
      "Precision: 0.6296 \n",
      "\n",
      "Recall: 0.1347 \n"
     ]
    }
   ],
   "source": [
    "helper.calc_metrics(y_pred)"
   ]
  },
  {
   "cell_type": "markdown",
   "metadata": {
    "colab_type": "text",
    "id": "TdtqCnjuwgqp"
   },
   "source": [
    "### Random Forests\n",
    "\n",
    "Random forests is a supervised learning algorithm. It can be used both for classification and regression. It is also the most flexible and easy to use algorithm. \n",
    "\n",
    "A forest is comprised of trees. It is said that the more trees it has, the more robust a forest is. Random forests creates decision trees on randomly selected data samples, gets prediction from each tree and selects the best solution by means of voting. It also provides a pretty good indicator of the feature importance."
   ]
  },
  {
   "cell_type": "code",
   "execution_count": 57,
   "metadata": {
    "colab": {},
    "colab_type": "code",
    "id": "E91XXODWwgqp"
   },
   "outputs": [],
   "source": [
    "# create classifier object \n",
    "random_forest_classifier = RandomForestClassifier() \n",
    "  \n",
    "# fit the classifier with x and y data \n",
    "random_forest_classifier = random_forest_classifier.fit(X_train,y_train)\n",
    "\n",
    "#Predict the response for test dataset\n",
    "y_pred = random_forest_classifier.predict(X_test)"
   ]
  },
  {
   "cell_type": "code",
   "execution_count": 58,
   "metadata": {
    "colab": {
     "base_uri": "https://localhost:8080/",
     "height": 349
    },
    "colab_type": "code",
    "id": "tSYqABb7Zzwi",
    "outputId": "91754144-faa3-4726-ae25-7a21860476d0"
   },
   "outputs": [
    {
     "data": {
      "image/png": "[encoded data removed]",
      "text/plain": [
       "<Figure size 432x288 with 2 Axes>"
      ]
     },
     "metadata": {},
     "output_type": "display_data"
    }
   ],
   "source": [
    "helper.confusion(y_pred)"
   ]
  },
  {
   "cell_type": "markdown",
   "metadata": {
    "colab_type": "text",
    "id": "h5QVLl8Mwgqq"
   },
   "source": [
    "#### Cross validation"
   ]
  },
  {
   "cell_type": "markdown",
   "metadata": {
    "colab_type": "text",
    "id": "EK7v0fe8wgqr"
   },
   "source": [
    "##### Stratified K-fold"
   ]
  },
  {
   "cell_type": "code",
   "execution_count": 59,
   "metadata": {
    "colab": {
     "base_uri": "https://localhost:8080/",
     "height": 151
    },
    "colab_type": "code",
    "id": "uet0W8hkwgqr",
    "outputId": "14790ba5-c7d8-4d13-f712-35202d1b8878"
   },
   "outputs": [
    {
     "name": "stdout",
     "output_type": "stream",
     "text": [
      "\n",
      "Cross-Validation Accuracy Scores [0.89438899 0.89398435 0.89128675 0.89020772 0.89208148]\n",
      "\n",
      "The minimum Cross-Validation Accuracy is  0.8902 \n",
      "\n",
      "The mean Cross-Validation Accuracy is  0.8924 \n",
      "\n",
      "The maximum Cross-Validation Accuracy is  0.8944 \n"
     ]
    }
   ],
   "source": [
    "rand = helper.s_kfold(random_forest_classifier)"
   ]
  },
  {
   "cell_type": "markdown",
   "metadata": {
    "colab_type": "text",
    "id": "CwST_PvQwgqs"
   },
   "source": [
    "##### K-fold"
   ]
  },
  {
   "cell_type": "code",
   "execution_count": 60,
   "metadata": {
    "colab": {
     "base_uri": "https://localhost:8080/",
     "height": 151
    },
    "colab_type": "code",
    "id": "gMoBwHdgwgqs",
    "outputId": "00b8a338-4f9d-4e42-c235-e0e62f2e28ba"
   },
   "outputs": [
    {
     "name": "stdout",
     "output_type": "stream",
     "text": [
      "\n",
      "Cross-Validation Accuracy Scores [0.89641219 0.8869706  0.89533315 0.89142163 0.89491434]\n",
      "\n",
      "The minimum Cross-Validation Accuracy is  0.8870 \n",
      "\n",
      "The mean Cross-Validation Accuracy is  0.8930 \n",
      "\n",
      "The maximum Cross-Validation Accuracy is  0.8964 \n"
     ]
    }
   ],
   "source": [
    "helper.kfold(random_forest_classifier)"
   ]
  },
  {
   "cell_type": "markdown",
   "metadata": {
    "colab_type": "text",
    "id": "eMdSWsacwgqu"
   },
   "source": [
    "#### Evaluation Metrics"
   ]
  },
  {
   "cell_type": "markdown",
   "metadata": {
    "colab_type": "text",
    "id": "ozC9aUuRwgqu"
   },
   "source": [
    "##### Receiver operating characteristic (ROC)"
   ]
  },
  {
   "cell_type": "code",
   "execution_count": 61,
   "metadata": {
    "colab": {
     "base_uri": "https://localhost:8080/",
     "height": 322
    },
    "colab_type": "code",
    "id": "VWQRHqxkwgqu",
    "outputId": "f0f5275c-4974-4f88-e462-6426c9c40ad9"
   },
   "outputs": [
    {
     "name": "stdout",
     "output_type": "stream",
     "text": [
      "auc=0.7727777564696148\n"
     ]
    },
    {
     "data": {
      "image/png": "[encoded data removed]",
      "text/plain": [
       "<Figure size 432x288 with 1 Axes>"
      ]
     },
     "metadata": {},
     "output_type": "display_data"
    }
   ],
   "source": [
    "helper.roc_plot(random_forest_classifier)"
   ]
  },
  {
   "cell_type": "markdown",
   "metadata": {
    "colab_type": "text",
    "id": "BBwSB_OhYjip"
   },
   "source": [
    "AUC score for the case is 0.7761. AUC score 1 represents perfect classifier, and 0.5 represents a worthless classifier."
   ]
  },
  {
   "cell_type": "markdown",
   "metadata": {
    "colab_type": "text",
    "id": "w2dlkYIE2nP1"
   },
   "source": [
    "##### F1 Score, Accuracy, Precision, Recall\n",
    "\n",
    "* F1 score is the amount of data tested for the predictions.\n",
    "\n",
    "* Accuracy is the subset accuracy. The set of labels predicted for a sample must exactly match the corresponding set of labels in y_true.\n",
    "\n",
    "* Precision score means the the level up-to which the prediction made by the model is precise. \n",
    "\n",
    "* Recall is the amount up-to which the model can predict the outcome. "
   ]
  },
  {
   "cell_type": "code",
   "execution_count": 62,
   "metadata": {
    "colab": {
     "base_uri": "https://localhost:8080/",
     "height": 151
    },
    "colab_type": "code",
    "id": "-KRbEJ432nP2",
    "outputId": "afa84b01-23e9-4d89-ee41-b718b72a62c3"
   },
   "outputs": [
    {
     "name": "stdout",
     "output_type": "stream",
     "text": [
      "\n",
      "F1 Score: 0.2222 \n",
      "\n",
      "Accuracy: 0.8844 \n",
      "\n",
      "Precision: 0.6355 \n",
      "\n",
      "Recall: 0.1347 \n"
     ]
    }
   ],
   "source": [
    "helper.calc_metrics(y_pred)"
   ]
  },
  {
   "cell_type": "code",
   "execution_count": 63,
   "metadata": {
    "colab": {},
    "colab_type": "code",
    "id": "istapid0fsdV"
   },
   "outputs": [],
   "source": [
    "evaluation = pd.DataFrame()\n",
    "evaluation['Logistic Regression'] = log\n",
    "evaluation['XGBoost'] = boost\n",
    "evaluation['Multilayer Perceptron'] = multi\n",
    "evaluation['Support Vector Machine'] = svm\n",
    "evaluation['Decision Trees'] = trees\n",
    "evaluation['Random Forests'] = rand\n",
    "evaluation['Validation Round'] = list(['First', 'Second', 'Third', 'Fourth', 'Fifth'])"
   ]
  },
  {
   "cell_type": "code",
   "execution_count": 64,
   "metadata": {
    "colab": {
     "base_uri": "https://localhost:8080/",
     "height": 491
    },
    "colab_type": "code",
    "id": "FOirZQ3tkJ2X",
    "outputId": "a53ae244-d04c-4bac-d314-900d97f9d157"
   },
   "outputs": [
    {
     "data": {
      "image/png": "[encoded data removed]",
      "text/plain": [
       "<Figure size 540x540 with 1 Axes>"
      ]
     },
     "metadata": {},
     "output_type": "display_data"
    }
   ],
   "source": [
    "figure = plt.figure(figsize=(7.5,7.5))\n",
    "ax = plt.gca()\n",
    "evaluation.plot(kind='line',x='Validation Round',y='Logistic Regression',ax=ax)\n",
    "evaluation.plot(kind='line',x='Validation Round',y='XGBoost',ax=ax)\n",
    "evaluation.plot(kind='line',x='Validation Round',y='Multilayer Perceptron',ax=ax)\n",
    "evaluation.plot(kind='line',x='Validation Round',y='Support Vector Machine',ax=ax)\n",
    "evaluation.plot(kind='line',x='Validation Round',y='Decision Trees',ax=ax)\n",
    "evaluation.plot(kind='line',x='Validation Round',y='Random Forests',ax=ax)\n",
    "plt.title('Model Valuation')\n",
    "plt.ylabel('Accuracy Score')\n",
    "plt.show()"
   ]
  },
  {
   "cell_type": "markdown",
   "metadata": {
    "colab_type": "text",
    "id": "yCI6dABjwgq0"
   },
   "source": [
    "# References\n",
    "Navlani, A., 2018. Decision Tree Classification In Python. [online] DataCamp Community. Available at: <https://www.datacamp.com/community/tutorials/svm-classification-scikit-learn-python>.\n",
    "\n",
    "Navlani, A., 2019. Support Vector Machines With Scikit-Learn. [online] DataCamp Community. Available at: <https://www.datacamp.com/community/tutorials/svm-classification-scikit-learn-python?utm_source=adwords_ppc&utm_campaignid=1455363063&utm_adgroupid=65083631748&utm_device=c&utm_keyword=&utm_matchtype=b&utm_network=g&utm_adpostion=&utm_creative=278443377086&utm_targetid=aud-299261629574:dsa-429603003980&utm_loc_interest_ms=&utm_loc_physical_ms=9076857&gclid=CjwKCAjwyo36BRAXEiwA24CwGa2OoIYBqmBWZL_KcePBXotc_Ky7MN5xnyT0eF-U0DcAQfgaQ9RS1RoCx0IQAvD_BwE>.\n",
    "\n",
    "Navlani, A., 2020. Understanding Logistic Regression In Python. [online] DataCamp Community. Available at: <https://www.datacamp.com/community/tutorials/understanding-logistic-regression-python?utm_source=adwords_ppc&utm_campaignid=1455363063&utm_adgroupid=65083631748&utm_device=c&utm_keyword=&utm_matchtype=b&utm_network=g&utm_adpostion=&utm_creative=332602034364&utm_targetid=aud-299261629574:dsa-429603003980&utm_loc_interest_ms=&utm_loc_physical_ms=9076857&gclid=CjwKCAjwyo36BRAXEiwA24CwGW_AlFxbL4od4tD3zMDp3OzlVqetNSFDL_4xhwfQnyxxVXo9WJ2vlxoC6cwQAvD_BwE>.\n",
    "\n",
    "Pathak, M., 2020. Using Xgboost In Python. [online] DataCamp Community. Available at: <https://www.datacamp.com/community/tutorials/xgboost-in-python?utm_source=adwords_ppc&utm_campaignid=1455363063&utm_adgroupid=65083631748&utm_device=c&utm_keyword=&utm_matchtype=b&utm_network=g&utm_adpostion=&utm_creative=332602034364&utm_targetid=aud-299261629574:dsa-429603003980&utm_loc_interest_ms=&utm_loc_physical_ms=9076857&gclid=CjwKCAjwyo36BRAXEiwA24CwGU0BzB6TeKG_Ns2Kv7MskUTbIAHkS3ZgfZan1mfSXTqwA9os59WGnxoCiuUQAvD_BwE>.\n",
    "\n",
    "Pythonprogramminglanguage.com. 2020. Multilayer Perceptron - Learn Python. [online] Available at: <https://pythonprogramminglanguage.com/multilayer-perceptron/>.\n",
    "\n",
    "Quantdare. 2020. Outliers Detection With Autoencoder, A Neural Network ⋆ Quantdare. [online] Available at: <https://quantdare.com/outliers-detection-with-autoencoder-neural-network/>.\n",
    "\n",
    "Scikit-learn.org. 2020. Sklearn.Decomposition.PCA — Scikit-Learn 0.23.2 Documentation. [online] Available at: <https://scikit-learn.org/stable/modules/generated/sklearn.decomposition.PCA.html>.\n",
    "\n",
    "Scikit-learn.org. 2020. Sklearn.Preprocessing.Standardscaler — Scikit-Learn 0.23.2 Documentation. [online] Available at: <https://scikit-learn.org/stable/modules/generated/sklearn.preprocessing.StandardScaler.html>."
   ]
  }
 ],
 "metadata": {
  "colab": {
   "collapsed_sections": [],
   "name": "Bank Institution Term Deposit Predictive Model.ipynb",
   "provenance": []
  },
  "kernelspec": {
   "display_name": "Python 3",
   "language": "python",
   "name": "python3"
  },
  "language_info": {
   "codemirror_mode": {
    "name": "ipython",
    "version": 3
   },
   "file_extension": ".py",
   "mimetype": "text/x-python",
   "name": "python",
   "nbconvert_exporter": "python",
   "pygments_lexer": "ipython3",
   "version": "3.8.3"
  }
 },
 "nbformat": 4,
 "nbformat_minor": 1
}
